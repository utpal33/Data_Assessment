{
 "cells": [
  {
   "cell_type": "code",
   "execution_count": 760,
   "id": "fcebff99-985b-41b6-9f28-877e7177e939",
   "metadata": {},
   "outputs": [],
   "source": [
    "import pandas as pd;\n",
    "import numpy as np;"
   ]
  },
  {
   "cell_type": "code",
   "execution_count": 761,
   "id": "aac4d5f4-0699-45fc-b37a-b06d978216f9",
   "metadata": {},
   "outputs": [],
   "source": [
    "df = pd.read_excel(\"Data Assignment.xlsx\")"
   ]
  },
  {
   "cell_type": "markdown",
   "id": "be5f510f-d8cc-4cf7-9bd3-3f59496e5d1d",
   "metadata": {},
   "source": [
    "#  viewing the data throughly"
   ]
  },
  {
   "cell_type": "code",
   "execution_count": 762,
   "id": "8f369e60-61e5-4b09-8b96-5afbc2f08633",
   "metadata": {},
   "outputs": [
    {
     "data": {
      "text/html": [
       "<div>\n",
       "<style scoped>\n",
       "    .dataframe tbody tr th:only-of-type {\n",
       "        vertical-align: middle;\n",
       "    }\n",
       "\n",
       "    .dataframe tbody tr th {\n",
       "        vertical-align: top;\n",
       "    }\n",
       "\n",
       "    .dataframe thead th {\n",
       "        text-align: right;\n",
       "    }\n",
       "</style>\n",
       "<table border=\"1\" class=\"dataframe\">\n",
       "  <thead>\n",
       "    <tr style=\"text-align: right;\">\n",
       "      <th></th>\n",
       "      <th>Company Name</th>\n",
       "      <th>Website</th>\n",
       "      <th>Company HQ Phone</th>\n",
       "      <th>Last Name</th>\n",
       "      <th>First Name</th>\n",
       "      <th>Middle Name</th>\n",
       "      <th>Salutation</th>\n",
       "      <th>Job Title</th>\n",
       "      <th>Direct Phone Number</th>\n",
       "      <th>Mobile phone</th>\n",
       "      <th>Business Email</th>\n",
       "      <th>Supplemental Email</th>\n",
       "      <th>LinkedIn Contact Profile URL</th>\n",
       "      <th>Person Street</th>\n",
       "      <th>Person City</th>\n",
       "      <th>Person State</th>\n",
       "      <th>Person Zip Code</th>\n",
       "      <th>Country</th>\n",
       "    </tr>\n",
       "  </thead>\n",
       "  <tbody>\n",
       "    <tr>\n",
       "      <th>0</th>\n",
       "      <td>iSTUDIO</td>\n",
       "      <td>www.istudio.com</td>\n",
       "      <td>(202) 758-2037</td>\n",
       "      <td>Snook</td>\n",
       "      <td>Dan</td>\n",
       "      <td>NaN</td>\n",
       "      <td>NaN</td>\n",
       "      <td>Project Manager, Integrus</td>\n",
       "      <td>(202) 758-2037 ext. 903</td>\n",
       "      <td>(202) 620-2430</td>\n",
       "      <td>dsnook@istudioarchitects.com</td>\n",
       "      <td>NaN</td>\n",
       "      <td>https://www.linkedin.com/in/dan-snook-aia-45a3...</td>\n",
       "      <td>1605 Connecticut Ave NW Ste 200</td>\n",
       "      <td>Washington, D.C.</td>\n",
       "      <td>District of Columbia</td>\n",
       "      <td>20009</td>\n",
       "      <td>United States</td>\n",
       "    </tr>\n",
       "    <tr>\n",
       "      <th>1</th>\n",
       "      <td>CyberPatriot</td>\n",
       "      <td>www.uscyberpatriot.org</td>\n",
       "      <td>(877) 885-5716</td>\n",
       "      <td>Zaborowski</td>\n",
       "      <td>Frank</td>\n",
       "      <td>NaN</td>\n",
       "      <td>NaN</td>\n",
       "      <td>Director, Operations</td>\n",
       "      <td>(703) 247-5840</td>\n",
       "      <td>NaN</td>\n",
       "      <td>f.zaborowski@uscyberpatriot.org</td>\n",
       "      <td>NaN</td>\n",
       "      <td>https://www.linkedin.com/in/frank-zaborowski-5...</td>\n",
       "      <td>1501 Langston Blvd</td>\n",
       "      <td>Arlington</td>\n",
       "      <td>Virginia</td>\n",
       "      <td>22209</td>\n",
       "      <td>United States</td>\n",
       "    </tr>\n",
       "    <tr>\n",
       "      <th>2</th>\n",
       "      <td>Eagle Academy Public Charter School</td>\n",
       "      <td>www.eagleacademypcs.org</td>\n",
       "      <td>(202) 459-6825</td>\n",
       "      <td>Crooms</td>\n",
       "      <td>Vernal</td>\n",
       "      <td>L.</td>\n",
       "      <td>NaN</td>\n",
       "      <td>Director, Food Service</td>\n",
       "      <td>NaN</td>\n",
       "      <td>(202) 469-9994</td>\n",
       "      <td>NaN</td>\n",
       "      <td>NaN</td>\n",
       "      <td>NaN</td>\n",
       "      <td>3400 Wheeler Rd SE</td>\n",
       "      <td>Washington, D.C.</td>\n",
       "      <td>District of Columbia</td>\n",
       "      <td>20032</td>\n",
       "      <td>United States</td>\n",
       "    </tr>\n",
       "    <tr>\n",
       "      <th>3</th>\n",
       "      <td>Embassy of Sweden</td>\n",
       "      <td>www.swedenabroad.se/en/embassies/usa-washington</td>\n",
       "      <td>(202) 467-2600</td>\n",
       "      <td>Hoijer</td>\n",
       "      <td>Rolf</td>\n",
       "      <td>NaN</td>\n",
       "      <td>NaN</td>\n",
       "      <td>Head of Office, Office of Science and Innovation</td>\n",
       "      <td>(202) 534-9584</td>\n",
       "      <td>NaN</td>\n",
       "      <td>NaN</td>\n",
       "      <td>NaN</td>\n",
       "      <td>NaN</td>\n",
       "      <td>2900 K St NW Ste 100</td>\n",
       "      <td>Washington, D.C.</td>\n",
       "      <td>District of Columbia</td>\n",
       "      <td>20007</td>\n",
       "      <td>United States</td>\n",
       "    </tr>\n",
       "    <tr>\n",
       "      <th>4</th>\n",
       "      <td>DC Department of Human Services</td>\n",
       "      <td>dhs.dc.gov</td>\n",
       "      <td>(202) 671-4200</td>\n",
       "      <td>Miller</td>\n",
       "      <td>Jaleesa</td>\n",
       "      <td>NaN</td>\n",
       "      <td>NaN</td>\n",
       "      <td>Case Manager</td>\n",
       "      <td>(202) 727-3799</td>\n",
       "      <td>(202) 256-5209</td>\n",
       "      <td>jaleesa.miller@dc.gov</td>\n",
       "      <td>NaN</td>\n",
       "      <td>NaN</td>\n",
       "      <td>920 A-Rhode Island Ave NE</td>\n",
       "      <td>Washington, D.C.</td>\n",
       "      <td>District of Columbia</td>\n",
       "      <td>20018</td>\n",
       "      <td>United States</td>\n",
       "    </tr>\n",
       "  </tbody>\n",
       "</table>\n",
       "</div>"
      ],
      "text/plain": [
       "                          Company Name  \\\n",
       "0                              iSTUDIO   \n",
       "1                         CyberPatriot   \n",
       "2  Eagle Academy Public Charter School   \n",
       "3                    Embassy of Sweden   \n",
       "4      DC Department of Human Services   \n",
       "\n",
       "                                           Website Company HQ Phone  \\\n",
       "0                                  www.istudio.com   (202) 758-2037   \n",
       "1                           www.uscyberpatriot.org   (877) 885-5716   \n",
       "2                          www.eagleacademypcs.org   (202) 459-6825   \n",
       "3  www.swedenabroad.se/en/embassies/usa-washington   (202) 467-2600   \n",
       "4                                       dhs.dc.gov   (202) 671-4200   \n",
       "\n",
       "    Last Name First Name Middle Name Salutation  \\\n",
       "0       Snook        Dan         NaN        NaN   \n",
       "1  Zaborowski      Frank         NaN        NaN   \n",
       "2      Crooms     Vernal          L.        NaN   \n",
       "3      Hoijer       Rolf         NaN        NaN   \n",
       "4      Miller    Jaleesa         NaN        NaN   \n",
       "\n",
       "                                          Job Title      Direct Phone Number  \\\n",
       "0                         Project Manager, Integrus  (202) 758-2037 ext. 903   \n",
       "1                              Director, Operations           (703) 247-5840   \n",
       "2                            Director, Food Service                      NaN   \n",
       "3  Head of Office, Office of Science and Innovation           (202) 534-9584   \n",
       "4                                      Case Manager           (202) 727-3799   \n",
       "\n",
       "     Mobile phone                   Business Email Supplemental Email  \\\n",
       "0  (202) 620-2430     dsnook@istudioarchitects.com                NaN   \n",
       "1             NaN  f.zaborowski@uscyberpatriot.org                NaN   \n",
       "2  (202) 469-9994                              NaN                NaN   \n",
       "3             NaN                              NaN                NaN   \n",
       "4  (202) 256-5209            jaleesa.miller@dc.gov                NaN   \n",
       "\n",
       "                        LinkedIn Contact Profile URL  \\\n",
       "0  https://www.linkedin.com/in/dan-snook-aia-45a3...   \n",
       "1  https://www.linkedin.com/in/frank-zaborowski-5...   \n",
       "2                                                NaN   \n",
       "3                                                NaN   \n",
       "4                                                NaN   \n",
       "\n",
       "                     Person Street       Person City          Person State  \\\n",
       "0  1605 Connecticut Ave NW Ste 200  Washington, D.C.  District of Columbia   \n",
       "1               1501 Langston Blvd         Arlington              Virginia   \n",
       "2               3400 Wheeler Rd SE  Washington, D.C.  District of Columbia   \n",
       "3             2900 K St NW Ste 100  Washington, D.C.  District of Columbia   \n",
       "4        920 A-Rhode Island Ave NE  Washington, D.C.  District of Columbia   \n",
       "\n",
       "  Person Zip Code        Country  \n",
       "0           20009  United States  \n",
       "1           22209  United States  \n",
       "2           20032  United States  \n",
       "3           20007  United States  \n",
       "4           20018  United States  "
      ]
     },
     "execution_count": 762,
     "metadata": {},
     "output_type": "execute_result"
    }
   ],
   "source": [
    "df.head()"
   ]
  },
  {
   "cell_type": "code",
   "execution_count": 763,
   "id": "a97a48bf-1275-40ea-9b74-4f42fddc9deb",
   "metadata": {},
   "outputs": [
    {
     "data": {
      "text/plain": [
       "237    (610) 373-7999\n",
       "389    (703) 444-3181\n",
       "907    (979) 845-3211\n",
       "926               NaN\n",
       "580    (262) 782-4722\n",
       "538    (703) 241-0386\n",
       "575               NaN\n",
       "723    (301) 934-8421\n",
       "458               NaN\n",
       "367    (202) 333-4005\n",
       "Name: Company HQ Phone, dtype: object"
      ]
     },
     "execution_count": 763,
     "metadata": {},
     "output_type": "execute_result"
    }
   ],
   "source": [
    "#  sampling the data to check it thoroughly\n",
    "# df.sample(10)\n",
    "# df[\"Business Email\"].sample(10)\n",
    "df['Company HQ Phone'].sample(10)"
   ]
  },
  {
   "cell_type": "code",
   "execution_count": 764,
   "id": "ba067667-cb03-4c68-a2b5-8a3567c9db48",
   "metadata": {},
   "outputs": [
    {
     "data": {
      "text/plain": [
       "Company Name                       Rwanda Ministry Of Foreign Affairs\n",
       "Website                                           www.minaffet.gov.rw\n",
       "Company HQ Phone                                       +250 788125043\n",
       "Last Name                                                     Solomon\n",
       "First Name                                                      Setti\n",
       "Middle Name                                                       NaN\n",
       "Salutation                                                        NaN\n",
       "Job Title                       Corporate Director, Sales & Marketing\n",
       "Direct Phone Number                                    (202) 450-9492\n",
       "Mobile phone                                                      NaN\n",
       "Business Email                                 ssetti@minaffet.gov.rw\n",
       "Supplemental Email                                                NaN\n",
       "LinkedIn Contact Profile URL                                      NaN\n",
       "Person Street                               1714 New Hampshire Ave NW\n",
       "Person City                                          Washington, D.C.\n",
       "Person State                                     District of Columbia\n",
       "Person Zip Code                                                 20009\n",
       "Country                                                 United States\n",
       "Name: 739, dtype: object"
      ]
     },
     "execution_count": 764,
     "metadata": {},
     "output_type": "execute_result"
    }
   ],
   "source": [
    "df.iloc[739]"
   ]
  },
  {
   "cell_type": "code",
   "execution_count": 765,
   "id": "fdfa8c67-9859-4f5d-be56-52fb953e7b9a",
   "metadata": {},
   "outputs": [
    {
     "data": {
      "text/plain": [
       "31"
      ]
     },
     "execution_count": 765,
     "metadata": {},
     "output_type": "execute_result"
    }
   ],
   "source": [
    "df['Company HQ Phone'].apply(lambda x: '+' in  str(x)).sum()"
   ]
  },
  {
   "cell_type": "code",
   "execution_count": 766,
   "id": "f32d3332-b171-4825-8775-761d9ff4f029",
   "metadata": {},
   "outputs": [
    {
     "data": {
      "text/html": [
       "<div>\n",
       "<style scoped>\n",
       "    .dataframe tbody tr th:only-of-type {\n",
       "        vertical-align: middle;\n",
       "    }\n",
       "\n",
       "    .dataframe tbody tr th {\n",
       "        vertical-align: top;\n",
       "    }\n",
       "\n",
       "    .dataframe thead th {\n",
       "        text-align: right;\n",
       "    }\n",
       "</style>\n",
       "<table border=\"1\" class=\"dataframe\">\n",
       "  <thead>\n",
       "    <tr style=\"text-align: right;\">\n",
       "      <th></th>\n",
       "      <th>Company Name</th>\n",
       "      <th>Website</th>\n",
       "      <th>Company HQ Phone</th>\n",
       "      <th>Last Name</th>\n",
       "      <th>First Name</th>\n",
       "      <th>Middle Name</th>\n",
       "      <th>Salutation</th>\n",
       "      <th>Job Title</th>\n",
       "      <th>Direct Phone Number</th>\n",
       "      <th>Mobile phone</th>\n",
       "      <th>Business Email</th>\n",
       "      <th>Supplemental Email</th>\n",
       "      <th>LinkedIn Contact Profile URL</th>\n",
       "      <th>Person Street</th>\n",
       "      <th>Person City</th>\n",
       "      <th>Person State</th>\n",
       "      <th>Person Zip Code</th>\n",
       "      <th>Country</th>\n",
       "    </tr>\n",
       "  </thead>\n",
       "  <tbody>\n",
       "    <tr>\n",
       "      <th>630</th>\n",
       "      <td>Woodgrove High School</td>\n",
       "      <td>www.woodgroveathletics.org</td>\n",
       "      <td>(540) 751-2610</td>\n",
       "      <td>Fiore</td>\n",
       "      <td>Geri</td>\n",
       "      <td>Muenkel</td>\n",
       "      <td>NaN</td>\n",
       "      <td>Director of Counseling...</td>\n",
       "      <td>(540) 759-2400</td>\n",
       "      <td>NaN</td>\n",
       "      <td>NaN</td>\n",
       "      <td>NaN</td>\n",
       "      <td>NaN</td>\n",
       "      <td>36811 Allder School Rd</td>\n",
       "      <td>Purcellville</td>\n",
       "      <td>Virginia</td>\n",
       "      <td>20132</td>\n",
       "      <td>United States</td>\n",
       "    </tr>\n",
       "    <tr>\n",
       "      <th>950</th>\n",
       "      <td>Emma Coalition</td>\n",
       "      <td>www.emmacoalition.com</td>\n",
       "      <td>NaN</td>\n",
       "      <td>Meade</td>\n",
       "      <td>Shannon</td>\n",
       "      <td>L.</td>\n",
       "      <td>NaN</td>\n",
       "      <td>Executive Director</td>\n",
       "      <td>NaN</td>\n",
       "      <td>(202) 774-0424</td>\n",
       "      <td>NaN</td>\n",
       "      <td>NaN</td>\n",
       "      <td>NaN</td>\n",
       "      <td>815 Connecticut Ave NW Ste 400</td>\n",
       "      <td>Washington, D.C.</td>\n",
       "      <td>District of Columbia</td>\n",
       "      <td>20006</td>\n",
       "      <td>United States</td>\n",
       "    </tr>\n",
       "    <tr>\n",
       "      <th>1003</th>\n",
       "      <td>Kbf</td>\n",
       "      <td>www.kbfbyaudi.com</td>\n",
       "      <td>(703) 777-9474</td>\n",
       "      <td>Griggs</td>\n",
       "      <td>Raleigh</td>\n",
       "      <td>NaN</td>\n",
       "      <td>NaN</td>\n",
       "      <td>Project Manager</td>\n",
       "      <td>NaN</td>\n",
       "      <td>(703) 595-3390</td>\n",
       "      <td>NaN</td>\n",
       "      <td>NaN</td>\n",
       "      <td>NaN</td>\n",
       "      <td>44710 Cape Ct Ste 138</td>\n",
       "      <td>Ashburn</td>\n",
       "      <td>Virginia</td>\n",
       "      <td>20175</td>\n",
       "      <td>United States</td>\n",
       "    </tr>\n",
       "    <tr>\n",
       "      <th>173</th>\n",
       "      <td>Avyanna Technologies</td>\n",
       "      <td>avy.tech</td>\n",
       "      <td>NaN</td>\n",
       "      <td>Atkinson</td>\n",
       "      <td>P.</td>\n",
       "      <td>Shaniqua</td>\n",
       "      <td>NaN</td>\n",
       "      <td>Project Manager, Cyber</td>\n",
       "      <td>NaN</td>\n",
       "      <td>(902) 644-9500</td>\n",
       "      <td>NaN</td>\n",
       "      <td>NaN</td>\n",
       "      <td>NaN</td>\n",
       "      <td>11810 Grand Park Ave Ste 500</td>\n",
       "      <td>North Bethesda</td>\n",
       "      <td>Maryland</td>\n",
       "      <td>20852</td>\n",
       "      <td>United States</td>\n",
       "    </tr>\n",
       "    <tr>\n",
       "      <th>282</th>\n",
       "      <td>US District Court District of Columbia</td>\n",
       "      <td>dcd.uscourts.gov</td>\n",
       "      <td>(202) 354-3050</td>\n",
       "      <td>Barrett</td>\n",
       "      <td>Daniel</td>\n",
       "      <td>NaN</td>\n",
       "      <td>NaN</td>\n",
       "      <td>Assistant Director, Information Technology</td>\n",
       "      <td>(202) 354-3297</td>\n",
       "      <td>NaN</td>\n",
       "      <td>NaN</td>\n",
       "      <td>wormsofthee4rth@yahoo.com</td>\n",
       "      <td>https://www.linkedin.com/in/daniel-barrett-124...</td>\n",
       "      <td>333 Constitution Ave NW Rm 6503</td>\n",
       "      <td>Washington, D.C.</td>\n",
       "      <td>District of Columbia</td>\n",
       "      <td>20001</td>\n",
       "      <td>United States</td>\n",
       "    </tr>\n",
       "    <tr>\n",
       "      <th>295</th>\n",
       "      <td>Dr K's</td>\n",
       "      <td>NaN</td>\n",
       "      <td>NaN</td>\n",
       "      <td>Frazier</td>\n",
       "      <td>Keisha</td>\n",
       "      <td>NaN</td>\n",
       "      <td>NaN</td>\n",
       "      <td>Executive Director</td>\n",
       "      <td>NaN</td>\n",
       "      <td>(605) 570-0647</td>\n",
       "      <td>NaN</td>\n",
       "      <td>NaN</td>\n",
       "      <td>https://www.linkedin.com/in/keishafrazierphd14</td>\n",
       "      <td>2908 N Lexington St</td>\n",
       "      <td>Arlington</td>\n",
       "      <td>Virginia</td>\n",
       "      <td>22207</td>\n",
       "      <td>United States</td>\n",
       "    </tr>\n",
       "    <tr>\n",
       "      <th>259</th>\n",
       "      <td>PrairieGold Solar</td>\n",
       "      <td>www.prairiegoldsolar.com</td>\n",
       "      <td>(605) 275-2999</td>\n",
       "      <td>Nelson</td>\n",
       "      <td>Luke</td>\n",
       "      <td>M.</td>\n",
       "      <td>NaN</td>\n",
       "      <td>Business Development Manager</td>\n",
       "      <td>NaN</td>\n",
       "      <td>(302) 590-7004</td>\n",
       "      <td>NaN</td>\n",
       "      <td>NaN</td>\n",
       "      <td>https://www.linkedin.com/in/luke-nelson-1853b32b</td>\n",
       "      <td>718 7th St NW</td>\n",
       "      <td>Washington, D.C.</td>\n",
       "      <td>District of Columbia</td>\n",
       "      <td>20001</td>\n",
       "      <td>United States</td>\n",
       "    </tr>\n",
       "    <tr>\n",
       "      <th>581</th>\n",
       "      <td>Federal Housing Finance Agency</td>\n",
       "      <td>www.fhfa.gov</td>\n",
       "      <td>(202) 445-2141</td>\n",
       "      <td>Spohn</td>\n",
       "      <td>Jeffrey</td>\n",
       "      <td>NaN</td>\n",
       "      <td>Mr.</td>\n",
       "      <td>Deputy Director, Conservatorship Operations</td>\n",
       "      <td>NaN</td>\n",
       "      <td>(630) 242-2404</td>\n",
       "      <td>NaN</td>\n",
       "      <td>crazyspohn@yahoo.com</td>\n",
       "      <td>https://www.linkedin.com/in/jeffrey-spohn-2461...</td>\n",
       "      <td>1777 F St NW,Ste 100</td>\n",
       "      <td>Washington, D.C.</td>\n",
       "      <td>District of Columbia</td>\n",
       "      <td>20006-5212</td>\n",
       "      <td>United States</td>\n",
       "    </tr>\n",
       "    <tr>\n",
       "      <th>885</th>\n",
       "      <td>Washington DC Fire Department</td>\n",
       "      <td>www.dcfd.com</td>\n",
       "      <td>(202) 673-3205</td>\n",
       "      <td>McAllister</td>\n",
       "      <td>Brian</td>\n",
       "      <td>A.</td>\n",
       "      <td>Captain</td>\n",
       "      <td>Captain</td>\n",
       "      <td>NaN</td>\n",
       "      <td>(240) 793-5090</td>\n",
       "      <td>NaN</td>\n",
       "      <td>bmcallister@verizon.net</td>\n",
       "      <td>https://www.linkedin.com/in/brian-mcallister-7...</td>\n",
       "      <td>3412 Dent Pl NW</td>\n",
       "      <td>Washington, D.C.</td>\n",
       "      <td>District of Columbia</td>\n",
       "      <td>20007</td>\n",
       "      <td>United States</td>\n",
       "    </tr>\n",
       "    <tr>\n",
       "      <th>853</th>\n",
       "      <td>ASU Leadership, Diplomacy and National Securit...</td>\n",
       "      <td>ldns.asu.edu</td>\n",
       "      <td>NaN</td>\n",
       "      <td>Wright</td>\n",
       "      <td>Ashley</td>\n",
       "      <td>NaN</td>\n",
       "      <td>NaN</td>\n",
       "      <td>Program Manager</td>\n",
       "      <td>NaN</td>\n",
       "      <td>(900) 330-9232</td>\n",
       "      <td>NaN</td>\n",
       "      <td>aoiwright@hotmail.com</td>\n",
       "      <td>https://www.linkedin.com/in/ashley-wright-77a8...</td>\n",
       "      <td>1800 I St NW</td>\n",
       "      <td>Washington, D.C.</td>\n",
       "      <td>District of Columbia</td>\n",
       "      <td>20006</td>\n",
       "      <td>United States</td>\n",
       "    </tr>\n",
       "  </tbody>\n",
       "</table>\n",
       "</div>"
      ],
      "text/plain": [
       "                                           Company Name  \\\n",
       "630                               Woodgrove High School   \n",
       "950                                      Emma Coalition   \n",
       "1003                                                Kbf   \n",
       "173                                Avyanna Technologies   \n",
       "282              US District Court District of Columbia   \n",
       "295                                              Dr K's   \n",
       "259                                   PrairieGold Solar   \n",
       "581                      Federal Housing Finance Agency   \n",
       "885                       Washington DC Fire Department   \n",
       "853   ASU Leadership, Diplomacy and National Securit...   \n",
       "\n",
       "                         Website Company HQ Phone   Last Name First Name  \\\n",
       "630   www.woodgroveathletics.org   (540) 751-2610       Fiore       Geri   \n",
       "950        www.emmacoalition.com              NaN       Meade    Shannon   \n",
       "1003           www.kbfbyaudi.com   (703) 777-9474      Griggs    Raleigh   \n",
       "173                     avy.tech              NaN    Atkinson         P.   \n",
       "282             dcd.uscourts.gov   (202) 354-3050     Barrett     Daniel   \n",
       "295                          NaN              NaN     Frazier     Keisha   \n",
       "259     www.prairiegoldsolar.com   (605) 275-2999      Nelson       Luke   \n",
       "581                 www.fhfa.gov   (202) 445-2141       Spohn    Jeffrey   \n",
       "885                 www.dcfd.com   (202) 673-3205  McAllister      Brian   \n",
       "853                 ldns.asu.edu              NaN      Wright     Ashley   \n",
       "\n",
       "     Middle Name Salutation                                    Job Title  \\\n",
       "630      Muenkel        NaN                    Director of Counseling...   \n",
       "950           L.        NaN                           Executive Director   \n",
       "1003         NaN        NaN                              Project Manager   \n",
       "173     Shaniqua        NaN                       Project Manager, Cyber   \n",
       "282          NaN        NaN   Assistant Director, Information Technology   \n",
       "295          NaN        NaN                           Executive Director   \n",
       "259           M.        NaN                 Business Development Manager   \n",
       "581          NaN        Mr.  Deputy Director, Conservatorship Operations   \n",
       "885           A.    Captain                                      Captain   \n",
       "853          NaN        NaN                              Program Manager   \n",
       "\n",
       "     Direct Phone Number    Mobile phone Business Email  \\\n",
       "630       (540) 759-2400             NaN            NaN   \n",
       "950                  NaN  (202) 774-0424            NaN   \n",
       "1003                 NaN  (703) 595-3390            NaN   \n",
       "173                  NaN  (902) 644-9500            NaN   \n",
       "282       (202) 354-3297             NaN            NaN   \n",
       "295                  NaN  (605) 570-0647            NaN   \n",
       "259                  NaN  (302) 590-7004            NaN   \n",
       "581                  NaN  (630) 242-2404            NaN   \n",
       "885                  NaN  (240) 793-5090            NaN   \n",
       "853                  NaN  (900) 330-9232            NaN   \n",
       "\n",
       "             Supplemental Email  \\\n",
       "630                         NaN   \n",
       "950                         NaN   \n",
       "1003                        NaN   \n",
       "173                         NaN   \n",
       "282   wormsofthee4rth@yahoo.com   \n",
       "295                         NaN   \n",
       "259                         NaN   \n",
       "581        crazyspohn@yahoo.com   \n",
       "885     bmcallister@verizon.net   \n",
       "853       aoiwright@hotmail.com   \n",
       "\n",
       "                           LinkedIn Contact Profile URL  \\\n",
       "630                                                 NaN   \n",
       "950                                                 NaN   \n",
       "1003                                                NaN   \n",
       "173                                                 NaN   \n",
       "282   https://www.linkedin.com/in/daniel-barrett-124...   \n",
       "295      https://www.linkedin.com/in/keishafrazierphd14   \n",
       "259    https://www.linkedin.com/in/luke-nelson-1853b32b   \n",
       "581   https://www.linkedin.com/in/jeffrey-spohn-2461...   \n",
       "885   https://www.linkedin.com/in/brian-mcallister-7...   \n",
       "853   https://www.linkedin.com/in/ashley-wright-77a8...   \n",
       "\n",
       "                        Person Street       Person City          Person State  \\\n",
       "630            36811 Allder School Rd      Purcellville              Virginia   \n",
       "950    815 Connecticut Ave NW Ste 400  Washington, D.C.  District of Columbia   \n",
       "1003            44710 Cape Ct Ste 138           Ashburn              Virginia   \n",
       "173      11810 Grand Park Ave Ste 500    North Bethesda              Maryland   \n",
       "282   333 Constitution Ave NW Rm 6503  Washington, D.C.  District of Columbia   \n",
       "295               2908 N Lexington St         Arlington              Virginia   \n",
       "259                     718 7th St NW  Washington, D.C.  District of Columbia   \n",
       "581              1777 F St NW,Ste 100  Washington, D.C.  District of Columbia   \n",
       "885                   3412 Dent Pl NW  Washington, D.C.  District of Columbia   \n",
       "853                      1800 I St NW  Washington, D.C.  District of Columbia   \n",
       "\n",
       "     Person Zip Code        Country  \n",
       "630            20132  United States  \n",
       "950            20006  United States  \n",
       "1003           20175  United States  \n",
       "173            20852  United States  \n",
       "282            20001  United States  \n",
       "295            22207  United States  \n",
       "259            20001  United States  \n",
       "581       20006-5212  United States  \n",
       "885            20007  United States  \n",
       "853            20006  United States  "
      ]
     },
     "execution_count": 766,
     "metadata": {},
     "output_type": "execute_result"
    }
   ],
   "source": [
    "df[df['Business Email'].duplicated(keep=False)].sample(10)"
   ]
  },
  {
   "cell_type": "code",
   "execution_count": 767,
   "id": "29e152fa-6fef-456f-992d-799769c4fe0a",
   "metadata": {},
   "outputs": [
    {
     "data": {
      "text/plain": [
       "Index(['Company Name', 'Website', 'Company HQ Phone', 'Last Name',\n",
       "       'First Name', 'Middle Name', 'Salutation', 'Job Title',\n",
       "       'Direct Phone Number', 'Mobile phone', 'Business Email',\n",
       "       'Supplemental Email', 'LinkedIn Contact Profile URL', 'Person Street',\n",
       "       'Person City', 'Person State', 'Person Zip Code', 'Country'],\n",
       "      dtype='object')"
      ]
     },
     "execution_count": 767,
     "metadata": {},
     "output_type": "execute_result"
    }
   ],
   "source": [
    "df.columns"
   ]
  },
  {
   "cell_type": "code",
   "execution_count": 768,
   "id": "6df65359-ce5f-47ef-920c-8442964a7d65",
   "metadata": {},
   "outputs": [
    {
     "name": "stdout",
     "output_type": "stream",
     "text": [
      "<class 'pandas.core.frame.DataFrame'>\n",
      "RangeIndex: 1004 entries, 0 to 1003\n",
      "Data columns (total 18 columns):\n",
      " #   Column                        Non-Null Count  Dtype \n",
      "---  ------                        --------------  ----- \n",
      " 0   Company Name                  1003 non-null   object\n",
      " 1   Website                       917 non-null    object\n",
      " 2   Company HQ Phone              786 non-null    object\n",
      " 3   Last Name                     1003 non-null   object\n",
      " 4   First Name                    1003 non-null   object\n",
      " 5   Middle Name                   308 non-null    object\n",
      " 6   Salutation                    220 non-null    object\n",
      " 7   Job Title                     1003 non-null   object\n",
      " 8   Direct Phone Number           521 non-null    object\n",
      " 9   Mobile phone                  735 non-null    object\n",
      " 10  Business Email                752 non-null    object\n",
      " 11  Supplemental Email            495 non-null    object\n",
      " 12  LinkedIn Contact Profile URL  661 non-null    object\n",
      " 13  Person Street                 946 non-null    object\n",
      " 14  Person City                   1003 non-null   object\n",
      " 15  Person State                  1003 non-null   object\n",
      " 16  Person Zip Code               1003 non-null   object\n",
      " 17  Country                       1003 non-null   object\n",
      "dtypes: object(18)\n",
      "memory usage: 141.3+ KB\n"
     ]
    }
   ],
   "source": [
    "df.info()"
   ]
  },
  {
   "cell_type": "code",
   "execution_count": 769,
   "id": "89038c89-1033-468c-8c33-ec99d8fd982d",
   "metadata": {},
   "outputs": [
    {
     "data": {
      "text/html": [
       "<div>\n",
       "<style scoped>\n",
       "    .dataframe tbody tr th:only-of-type {\n",
       "        vertical-align: middle;\n",
       "    }\n",
       "\n",
       "    .dataframe tbody tr th {\n",
       "        vertical-align: top;\n",
       "    }\n",
       "\n",
       "    .dataframe thead th {\n",
       "        text-align: right;\n",
       "    }\n",
       "</style>\n",
       "<table border=\"1\" class=\"dataframe\">\n",
       "  <thead>\n",
       "    <tr style=\"text-align: right;\">\n",
       "      <th></th>\n",
       "      <th>Company Name</th>\n",
       "      <th>Website</th>\n",
       "      <th>Company HQ Phone</th>\n",
       "      <th>Last Name</th>\n",
       "      <th>First Name</th>\n",
       "      <th>Middle Name</th>\n",
       "      <th>Salutation</th>\n",
       "      <th>Job Title</th>\n",
       "      <th>Direct Phone Number</th>\n",
       "      <th>Mobile phone</th>\n",
       "      <th>Business Email</th>\n",
       "      <th>Supplemental Email</th>\n",
       "      <th>LinkedIn Contact Profile URL</th>\n",
       "      <th>Person Street</th>\n",
       "      <th>Person City</th>\n",
       "      <th>Person State</th>\n",
       "      <th>Person Zip Code</th>\n",
       "      <th>Country</th>\n",
       "    </tr>\n",
       "  </thead>\n",
       "  <tbody>\n",
       "    <tr>\n",
       "      <th>count</th>\n",
       "      <td>1003</td>\n",
       "      <td>917</td>\n",
       "      <td>786</td>\n",
       "      <td>1003</td>\n",
       "      <td>1003</td>\n",
       "      <td>308</td>\n",
       "      <td>220</td>\n",
       "      <td>1003</td>\n",
       "      <td>521</td>\n",
       "      <td>735</td>\n",
       "      <td>752</td>\n",
       "      <td>495</td>\n",
       "      <td>661</td>\n",
       "      <td>946</td>\n",
       "      <td>1003</td>\n",
       "      <td>1003</td>\n",
       "      <td>1003</td>\n",
       "      <td>1003</td>\n",
       "    </tr>\n",
       "    <tr>\n",
       "      <th>unique</th>\n",
       "      <td>996</td>\n",
       "      <td>914</td>\n",
       "      <td>779</td>\n",
       "      <td>888</td>\n",
       "      <td>629</td>\n",
       "      <td>95</td>\n",
       "      <td>12</td>\n",
       "      <td>649</td>\n",
       "      <td>520</td>\n",
       "      <td>731</td>\n",
       "      <td>750</td>\n",
       "      <td>493</td>\n",
       "      <td>659</td>\n",
       "      <td>912</td>\n",
       "      <td>82</td>\n",
       "      <td>3</td>\n",
       "      <td>247</td>\n",
       "      <td>1</td>\n",
       "    </tr>\n",
       "    <tr>\n",
       "      <th>top</th>\n",
       "      <td>Kbf</td>\n",
       "      <td>www.tworiverspcs.org</td>\n",
       "      <td>(301) 762-0700</td>\n",
       "      <td>Smith</td>\n",
       "      <td>Robert</td>\n",
       "      <td>M.</td>\n",
       "      <td>Ms.</td>\n",
       "      <td>Executive Director</td>\n",
       "      <td>(495) 478-4298</td>\n",
       "      <td>(300) 260-7460</td>\n",
       "      <td>cgarlock@grassrootscannabis.com</td>\n",
       "      <td>mary.gornick@gmail.com</td>\n",
       "      <td>https://www.linkedin.com/in/reedmorrison</td>\n",
       "      <td>1849 C St NW</td>\n",
       "      <td>Washington, D.C.</td>\n",
       "      <td>District of Columbia</td>\n",
       "      <td>20001</td>\n",
       "      <td>United States</td>\n",
       "    </tr>\n",
       "    <tr>\n",
       "      <th>freq</th>\n",
       "      <td>2</td>\n",
       "      <td>2</td>\n",
       "      <td>2</td>\n",
       "      <td>13</td>\n",
       "      <td>15</td>\n",
       "      <td>35</td>\n",
       "      <td>78</td>\n",
       "      <td>72</td>\n",
       "      <td>2</td>\n",
       "      <td>2</td>\n",
       "      <td>2</td>\n",
       "      <td>2</td>\n",
       "      <td>2</td>\n",
       "      <td>3</td>\n",
       "      <td>498</td>\n",
       "      <td>499</td>\n",
       "      <td>60</td>\n",
       "      <td>1003</td>\n",
       "    </tr>\n",
       "  </tbody>\n",
       "</table>\n",
       "</div>"
      ],
      "text/plain": [
       "       Company Name               Website Company HQ Phone Last Name  \\\n",
       "count          1003                   917              786      1003   \n",
       "unique          996                   914              779       888   \n",
       "top             Kbf  www.tworiverspcs.org   (301) 762-0700     Smith   \n",
       "freq              2                     2                2        13   \n",
       "\n",
       "       First Name Middle Name Salutation           Job Title  \\\n",
       "count        1003         308        220                1003   \n",
       "unique        629          95         12                 649   \n",
       "top        Robert          M.        Ms.  Executive Director   \n",
       "freq           15          35         78                  72   \n",
       "\n",
       "       Direct Phone Number    Mobile phone                   Business Email  \\\n",
       "count                  521             735                              752   \n",
       "unique                 520             731                              750   \n",
       "top         (495) 478-4298  (300) 260-7460  cgarlock@grassrootscannabis.com   \n",
       "freq                     2               2                                2   \n",
       "\n",
       "            Supplemental Email              LinkedIn Contact Profile URL  \\\n",
       "count                      495                                       661   \n",
       "unique                     493                                       659   \n",
       "top     mary.gornick@gmail.com  https://www.linkedin.com/in/reedmorrison   \n",
       "freq                         2                                         2   \n",
       "\n",
       "       Person Street       Person City          Person State  Person Zip Code  \\\n",
       "count            946              1003                  1003             1003   \n",
       "unique           912                82                     3              247   \n",
       "top     1849 C St NW  Washington, D.C.  District of Columbia            20001   \n",
       "freq               3               498                   499               60   \n",
       "\n",
       "              Country  \n",
       "count            1003  \n",
       "unique              1  \n",
       "top     United States  \n",
       "freq             1003  "
      ]
     },
     "execution_count": 769,
     "metadata": {},
     "output_type": "execute_result"
    }
   ],
   "source": [
    "df.describe()"
   ]
  },
  {
   "cell_type": "code",
   "execution_count": 770,
   "id": "4f363299-4ef2-4745-a9d9-dee1f8385916",
   "metadata": {},
   "outputs": [
    {
     "data": {
      "text/plain": [
       "Company Name                      1\n",
       "Website                          87\n",
       "Company HQ Phone                218\n",
       "Last Name                         1\n",
       "First Name                        1\n",
       "Middle Name                     696\n",
       "Salutation                      784\n",
       "Job Title                         1\n",
       "Direct Phone Number             483\n",
       "Mobile phone                    269\n",
       "Business Email                  252\n",
       "Supplemental Email              509\n",
       "LinkedIn Contact Profile URL    343\n",
       "Person Street                    58\n",
       "Person City                       1\n",
       "Person State                      1\n",
       "Person Zip Code                   1\n",
       "Country                           1\n",
       "dtype: int64"
      ]
     },
     "execution_count": 770,
     "metadata": {},
     "output_type": "execute_result"
    }
   ],
   "source": [
    "# checking null values\n",
    "df.isna().sum()"
   ]
  },
  {
   "cell_type": "code",
   "execution_count": 771,
   "id": "50427eeb-2ac1-4326-b1f4-3eeb5be43521",
   "metadata": {},
   "outputs": [
    {
     "data": {
      "text/html": [
       "<div>\n",
       "<style scoped>\n",
       "    .dataframe tbody tr th:only-of-type {\n",
       "        vertical-align: middle;\n",
       "    }\n",
       "\n",
       "    .dataframe tbody tr th {\n",
       "        vertical-align: top;\n",
       "    }\n",
       "\n",
       "    .dataframe thead th {\n",
       "        text-align: right;\n",
       "    }\n",
       "</style>\n",
       "<table border=\"1\" class=\"dataframe\">\n",
       "  <thead>\n",
       "    <tr style=\"text-align: right;\">\n",
       "      <th></th>\n",
       "      <th>Company Name</th>\n",
       "      <th>Website</th>\n",
       "      <th>Company HQ Phone</th>\n",
       "      <th>Last Name</th>\n",
       "      <th>First Name</th>\n",
       "      <th>Middle Name</th>\n",
       "      <th>Salutation</th>\n",
       "      <th>Job Title</th>\n",
       "      <th>Direct Phone Number</th>\n",
       "      <th>Mobile phone</th>\n",
       "      <th>Business Email</th>\n",
       "      <th>Supplemental Email</th>\n",
       "      <th>LinkedIn Contact Profile URL</th>\n",
       "      <th>Person Street</th>\n",
       "      <th>Person City</th>\n",
       "      <th>Person State</th>\n",
       "      <th>Person Zip Code</th>\n",
       "      <th>Country</th>\n",
       "    </tr>\n",
       "  </thead>\n",
       "  <tbody>\n",
       "    <tr>\n",
       "      <th>10</th>\n",
       "      <td>NaN</td>\n",
       "      <td>NaN</td>\n",
       "      <td>NaN</td>\n",
       "      <td>NaN</td>\n",
       "      <td>NaN</td>\n",
       "      <td>NaN</td>\n",
       "      <td>NaN</td>\n",
       "      <td>NaN</td>\n",
       "      <td>NaN</td>\n",
       "      <td>NaN</td>\n",
       "      <td>NaN</td>\n",
       "      <td>NaN</td>\n",
       "      <td>NaN</td>\n",
       "      <td>NaN</td>\n",
       "      <td>NaN</td>\n",
       "      <td>NaN</td>\n",
       "      <td>NaN</td>\n",
       "      <td>NaN</td>\n",
       "    </tr>\n",
       "  </tbody>\n",
       "</table>\n",
       "</div>"
      ],
      "text/plain": [
       "   Company Name Website Company HQ Phone Last Name First Name Middle Name  \\\n",
       "10          NaN     NaN              NaN       NaN        NaN         NaN   \n",
       "\n",
       "   Salutation Job Title Direct Phone Number Mobile phone Business Email  \\\n",
       "10        NaN       NaN                 NaN          NaN            NaN   \n",
       "\n",
       "   Supplemental Email LinkedIn Contact Profile URL Person Street Person City  \\\n",
       "10                NaN                          NaN           NaN         NaN   \n",
       "\n",
       "   Person State Person Zip Code Country  \n",
       "10          NaN             NaN     NaN  "
      ]
     },
     "execution_count": 771,
     "metadata": {},
     "output_type": "execute_result"
    }
   ],
   "source": [
    "# checking which row has null value in each column\n",
    "df[df.isna().all(axis=1)]"
   ]
  },
  {
   "cell_type": "code",
   "execution_count": 772,
   "id": "c37bf21a-9164-4077-bd88-46c6356fcc3f",
   "metadata": {},
   "outputs": [],
   "source": [
    " # droping row which has null vlue in all columns\n",
    "df.dropna(how='all', axis=0, inplace=True)"
   ]
  },
  {
   "cell_type": "code",
   "execution_count": 773,
   "id": "6965f733-5bca-4604-a479-7d6f6ae0a614",
   "metadata": {},
   "outputs": [
    {
     "data": {
      "text/plain": [
       "Company Name                      0\n",
       "Website                          86\n",
       "Company HQ Phone                217\n",
       "Last Name                         0\n",
       "First Name                        0\n",
       "Middle Name                     695\n",
       "Salutation                      783\n",
       "Job Title                         0\n",
       "Direct Phone Number             482\n",
       "Mobile phone                    268\n",
       "Business Email                  251\n",
       "Supplemental Email              508\n",
       "LinkedIn Contact Profile URL    342\n",
       "Person Street                    57\n",
       "Person City                       0\n",
       "Person State                      0\n",
       "Person Zip Code                   0\n",
       "Country                           0\n",
       "dtype: int64"
      ]
     },
     "execution_count": 773,
     "metadata": {},
     "output_type": "execute_result"
    }
   ],
   "source": [
    "# checking null values\n",
    "df.isna().sum()"
   ]
  },
  {
   "cell_type": "markdown",
   "id": "7227c1fb-19df-4330-9d52-95518c6595e3",
   "metadata": {},
   "source": [
    "#### company name column error handeling"
   ]
  },
  {
   "cell_type": "code",
   "execution_count": 774,
   "id": "fab0d0d9-e901-46b1-b6cd-043c0e8d1ce0",
   "metadata": {},
   "outputs": [],
   "source": [
    "# renanme company Name as Organisation Name\n",
    "df.rename(columns = {'Company Name': \"Organisation Name\"}, inplace=True)"
   ]
  },
  {
   "cell_type": "markdown",
   "id": "021a9df3-e8c6-411c-8d69-33265054bcbd",
   "metadata": {},
   "source": [
    "#### names column error handeling"
   ]
  },
  {
   "cell_type": "code",
   "execution_count": 775,
   "id": "5cc7f06a-c288-439f-9d2e-72dfd88d8af9",
   "metadata": {},
   "outputs": [],
   "source": [
    "# Creating Full Name column\n",
    "df['Full Name']= df['First Name'] + \" \" + df['Middle Name'].fillna(\"\") + \" \" + df['Last Name'] "
   ]
  },
  {
   "cell_type": "code",
   "execution_count": 776,
   "id": "4136afd1-fdbf-4622-8e71-a33877cf7565",
   "metadata": {},
   "outputs": [],
   "source": [
    "# sampleing website  column to check what type of error \n",
    "# df['Website'].sample(10)\n",
    "\n",
    "# only nan value Error is there"
   ]
  },
  {
   "cell_type": "code",
   "execution_count": 777,
   "id": "b7817d20-d890-4d97-bac5-20707bddbcc6",
   "metadata": {},
   "outputs": [],
   "source": [
    "# handeliing website column Error\n",
    "df['Website'].fillna('not filled', inplace=True)"
   ]
  },
  {
   "cell_type": "code",
   "execution_count": 778,
   "id": "519510e8-35b0-4a5e-87fe-0da9756ae72b",
   "metadata": {},
   "outputs": [
    {
     "data": {
      "text/plain": [
       "0"
      ]
     },
     "execution_count": 778,
     "metadata": {},
     "output_type": "execute_result"
    }
   ],
   "source": [
    "df['Website'].isna().sum()"
   ]
  },
  {
   "cell_type": "code",
   "execution_count": 779,
   "id": "3ed2cd16-447a-4b5c-b075-a725750cfda0",
   "metadata": {},
   "outputs": [
    {
     "data": {
      "text/plain": [
       "39     not filled\n",
       "186    not filled\n",
       "495    not filled\n",
       "462    not filled\n",
       "801    not filled\n",
       "183    not filled\n",
       "956    not filled\n",
       "307    not filled\n",
       "321    not filled\n",
       "62     not filled\n",
       "Name: Website, dtype: object"
      ]
     },
     "execution_count": 779,
     "metadata": {},
     "output_type": "execute_result"
    }
   ],
   "source": [
    "# cheking duplicacy\n",
    "# df['Website'].duplicated().value_counts()\n",
    "df[df['Website'].duplicated()]['Website'].sample(10)"
   ]
  },
  {
   "cell_type": "code",
   "execution_count": 780,
   "id": "f2971e93-5ef3-4938-84a0-513fdcdf806c",
   "metadata": {},
   "outputs": [
    {
     "data": {
      "text/html": [
       "<div>\n",
       "<style scoped>\n",
       "    .dataframe tbody tr th:only-of-type {\n",
       "        vertical-align: middle;\n",
       "    }\n",
       "\n",
       "    .dataframe tbody tr th {\n",
       "        vertical-align: top;\n",
       "    }\n",
       "\n",
       "    .dataframe thead th {\n",
       "        text-align: right;\n",
       "    }\n",
       "</style>\n",
       "<table border=\"1\" class=\"dataframe\">\n",
       "  <thead>\n",
       "    <tr style=\"text-align: right;\">\n",
       "      <th></th>\n",
       "      <th>Organisation Name</th>\n",
       "      <th>Website</th>\n",
       "      <th>Company HQ Phone</th>\n",
       "      <th>Last Name</th>\n",
       "      <th>First Name</th>\n",
       "      <th>Middle Name</th>\n",
       "      <th>Salutation</th>\n",
       "      <th>Job Title</th>\n",
       "      <th>Direct Phone Number</th>\n",
       "      <th>Mobile phone</th>\n",
       "      <th>Business Email</th>\n",
       "      <th>Supplemental Email</th>\n",
       "      <th>LinkedIn Contact Profile URL</th>\n",
       "      <th>Person Street</th>\n",
       "      <th>Person City</th>\n",
       "      <th>Person State</th>\n",
       "      <th>Person Zip Code</th>\n",
       "      <th>Country</th>\n",
       "      <th>Full Name</th>\n",
       "    </tr>\n",
       "  </thead>\n",
       "  <tbody>\n",
       "    <tr>\n",
       "      <th>40</th>\n",
       "      <td>Potomac Valley</td>\n",
       "      <td>www.potomacvalleyhc.com</td>\n",
       "      <td>(301) 762-0700</td>\n",
       "      <td>Archer</td>\n",
       "      <td>William</td>\n",
       "      <td>NaN</td>\n",
       "      <td>NaN</td>\n",
       "      <td>Lead Pastor and Executive Director</td>\n",
       "      <td>NaN</td>\n",
       "      <td>(262) 220-6532</td>\n",
       "      <td>archer@kennedykrieger.org</td>\n",
       "      <td>erasmusarcher@gmail.com</td>\n",
       "      <td>https://www.linkedin.com/in/william-will-arche...</td>\n",
       "      <td>1006 Williamstown Dr</td>\n",
       "      <td>Dumfries</td>\n",
       "      <td>Virginia</td>\n",
       "      <td>22026</td>\n",
       "      <td>United States</td>\n",
       "      <td>William  Archer</td>\n",
       "    </tr>\n",
       "    <tr>\n",
       "      <th>1002</th>\n",
       "      <td>Potomac Valley</td>\n",
       "      <td>www.potomacvalleyhc.com</td>\n",
       "      <td>(301) 762-0700</td>\n",
       "      <td>Archer</td>\n",
       "      <td>William</td>\n",
       "      <td>NaN</td>\n",
       "      <td>NaN</td>\n",
       "      <td>Lead Pastor and Executive Director</td>\n",
       "      <td>NaN</td>\n",
       "      <td>(262) 220-6532</td>\n",
       "      <td>archer@kennedykrieger.org</td>\n",
       "      <td>erasmusarcher@gmail.com</td>\n",
       "      <td>https://www.linkedin.com/in/william-will-arche...</td>\n",
       "      <td>1006 Williamstown Dr</td>\n",
       "      <td>Dumfries</td>\n",
       "      <td>Virginia</td>\n",
       "      <td>22026</td>\n",
       "      <td>United States</td>\n",
       "      <td>William  Archer</td>\n",
       "    </tr>\n",
       "  </tbody>\n",
       "</table>\n",
       "</div>"
      ],
      "text/plain": [
       "     Organisation Name                  Website Company HQ Phone Last Name  \\\n",
       "40      Potomac Valley  www.potomacvalleyhc.com   (301) 762-0700    Archer   \n",
       "1002    Potomac Valley  www.potomacvalleyhc.com   (301) 762-0700    Archer   \n",
       "\n",
       "     First Name Middle Name Salutation                           Job Title  \\\n",
       "40      William         NaN        NaN  Lead Pastor and Executive Director   \n",
       "1002    William         NaN        NaN  Lead Pastor and Executive Director   \n",
       "\n",
       "     Direct Phone Number    Mobile phone             Business Email  \\\n",
       "40                   NaN  (262) 220-6532  archer@kennedykrieger.org   \n",
       "1002                 NaN  (262) 220-6532  archer@kennedykrieger.org   \n",
       "\n",
       "           Supplemental Email  \\\n",
       "40    erasmusarcher@gmail.com   \n",
       "1002  erasmusarcher@gmail.com   \n",
       "\n",
       "                           LinkedIn Contact Profile URL         Person Street  \\\n",
       "40    https://www.linkedin.com/in/william-will-arche...  1006 Williamstown Dr   \n",
       "1002  https://www.linkedin.com/in/william-will-arche...  1006 Williamstown Dr   \n",
       "\n",
       "     Person City Person State Person Zip Code        Country        Full Name  \n",
       "40      Dumfries     Virginia           22026  United States  William  Archer  \n",
       "1002    Dumfries     Virginia           22026  United States  William  Archer  "
      ]
     },
     "execution_count": 780,
     "metadata": {},
     "output_type": "execute_result"
    }
   ],
   "source": [
    "# df[df['Website']== 'www.kbfbyaudi.com']\n",
    "# df[df['Website']== 'www.tworiverspcs.org']\n",
    "df[df['Website']== 'www.potomacvalleyhc.com']"
   ]
  },
  {
   "cell_type": "code",
   "execution_count": 781,
   "id": "54944a9e-f3c0-4409-a0d8-c92d170a4668",
   "metadata": {},
   "outputs": [
    {
     "data": {
      "text/html": [
       "<div>\n",
       "<style scoped>\n",
       "    .dataframe tbody tr th:only-of-type {\n",
       "        vertical-align: middle;\n",
       "    }\n",
       "\n",
       "    .dataframe tbody tr th {\n",
       "        vertical-align: top;\n",
       "    }\n",
       "\n",
       "    .dataframe thead th {\n",
       "        text-align: right;\n",
       "    }\n",
       "</style>\n",
       "<table border=\"1\" class=\"dataframe\">\n",
       "  <thead>\n",
       "    <tr style=\"text-align: right;\">\n",
       "      <th></th>\n",
       "      <th>Organisation Name</th>\n",
       "      <th>Website</th>\n",
       "      <th>Company HQ Phone</th>\n",
       "      <th>Last Name</th>\n",
       "      <th>First Name</th>\n",
       "      <th>Middle Name</th>\n",
       "      <th>Salutation</th>\n",
       "      <th>Job Title</th>\n",
       "      <th>Direct Phone Number</th>\n",
       "      <th>Mobile phone</th>\n",
       "      <th>Business Email</th>\n",
       "      <th>Supplemental Email</th>\n",
       "      <th>LinkedIn Contact Profile URL</th>\n",
       "      <th>Person Street</th>\n",
       "      <th>Person City</th>\n",
       "      <th>Person State</th>\n",
       "      <th>Person Zip Code</th>\n",
       "      <th>Country</th>\n",
       "      <th>Full Name</th>\n",
       "    </tr>\n",
       "  </thead>\n",
       "  <tbody>\n",
       "    <tr>\n",
       "      <th>73</th>\n",
       "      <td>Two Rivers Public Charter School</td>\n",
       "      <td>www.tworiverspcs.org</td>\n",
       "      <td>NaN</td>\n",
       "      <td>Gornick</td>\n",
       "      <td>Mary</td>\n",
       "      <td>NaN</td>\n",
       "      <td>NaN</td>\n",
       "      <td>Senior Director, Human Resources</td>\n",
       "      <td>(202) 890-5597</td>\n",
       "      <td>NaN</td>\n",
       "      <td>mgornick@tworiverspcs.org</td>\n",
       "      <td>mary.gornick@gmail.com</td>\n",
       "      <td>https://www.linkedin.com/in/reedmorrison</td>\n",
       "      <td>1227 4th St NE</td>\n",
       "      <td>Washington, D.C.</td>\n",
       "      <td>District of Columbia</td>\n",
       "      <td>20002</td>\n",
       "      <td>United States</td>\n",
       "      <td>Mary  Gornick</td>\n",
       "    </tr>\n",
       "    <tr>\n",
       "      <th>74</th>\n",
       "      <td>Two Rivers Public Charter School</td>\n",
       "      <td>www.tworiverspcs.org</td>\n",
       "      <td>NaN</td>\n",
       "      <td>maters</td>\n",
       "      <td>haszli</td>\n",
       "      <td>NaN</td>\n",
       "      <td>NaN</td>\n",
       "      <td>Senior Director, Human Resources</td>\n",
       "      <td>(340) 949-9494</td>\n",
       "      <td>NaN</td>\n",
       "      <td>haszli-maters@apachehub.com</td>\n",
       "      <td>mary.gornick@gmail.com</td>\n",
       "      <td>https://www.linkedin.com/in/reedmorrison</td>\n",
       "      <td>1227 4th St NE</td>\n",
       "      <td>Washington, D.C.</td>\n",
       "      <td>District of Columbia</td>\n",
       "      <td>20002</td>\n",
       "      <td>United States</td>\n",
       "      <td>haszli  maters</td>\n",
       "    </tr>\n",
       "  </tbody>\n",
       "</table>\n",
       "</div>"
      ],
      "text/plain": [
       "                   Organisation Name               Website Company HQ Phone  \\\n",
       "73  Two Rivers Public Charter School  www.tworiverspcs.org              NaN   \n",
       "74  Two Rivers Public Charter School  www.tworiverspcs.org              NaN   \n",
       "\n",
       "   Last Name First Name Middle Name Salutation  \\\n",
       "73   Gornick       Mary         NaN        NaN   \n",
       "74    maters     haszli         NaN        NaN   \n",
       "\n",
       "                           Job Title Direct Phone Number Mobile phone  \\\n",
       "73  Senior Director, Human Resources      (202) 890-5597          NaN   \n",
       "74  Senior Director, Human Resources      (340) 949-9494          NaN   \n",
       "\n",
       "                 Business Email      Supplemental Email  \\\n",
       "73    mgornick@tworiverspcs.org  mary.gornick@gmail.com   \n",
       "74  haszli-maters@apachehub.com  mary.gornick@gmail.com   \n",
       "\n",
       "                LinkedIn Contact Profile URL   Person Street  \\\n",
       "73  https://www.linkedin.com/in/reedmorrison  1227 4th St NE   \n",
       "74  https://www.linkedin.com/in/reedmorrison  1227 4th St NE   \n",
       "\n",
       "         Person City          Person State Person Zip Code        Country  \\\n",
       "73  Washington, D.C.  District of Columbia           20002  United States   \n",
       "74  Washington, D.C.  District of Columbia           20002  United States   \n",
       "\n",
       "         Full Name  \n",
       "73   Mary  Gornick  \n",
       "74  haszli  maters  "
      ]
     },
     "execution_count": 781,
     "metadata": {},
     "output_type": "execute_result"
    }
   ],
   "source": [
    "df[df['Website']== 'www.tworiverspcs.org']"
   ]
  },
  {
   "cell_type": "markdown",
   "id": "1ff54a65-03f3-4eee-8927-002144a6f6f6",
   "metadata": {},
   "source": [
    "#### handeling error in Number columns"
   ]
  },
  {
   "cell_type": "markdown",
   "id": "b7cf98f1-33c9-4af7-9de6-11e28dddfb36",
   "metadata": {},
   "source": [
    "##### 'Company HQ Phone' column"
   ]
  },
  {
   "cell_type": "code",
   "execution_count": 782,
   "id": "50833b5c-1c7a-46cd-97d6-8a05397d8b44",
   "metadata": {},
   "outputs": [
    {
     "data": {
      "text/plain": [
       "815    (202) 727-3600\n",
       "990    (301) 740-3390\n",
       "381    (202) 687-5330\n",
       "762               NaN\n",
       "927               NaN\n",
       "662    (240) 426-1424\n",
       "353    (540) 687-5555\n",
       "750    (703) 960-3000\n",
       "455    (301) 901-9112\n",
       "274               NaN\n",
       "Name: Company HQ Phone, dtype: object"
      ]
     },
     "execution_count": 782,
     "metadata": {},
     "output_type": "execute_result"
    }
   ],
   "source": [
    "# sampling the data \n",
    "df['Company HQ Phone'].sample(10)"
   ]
  },
  {
   "cell_type": "code",
   "execution_count": 783,
   "id": "48b07c41-5541-4df6-af14-a61ba0983374",
   "metadata": {},
   "outputs": [
    {
     "data": {
      "text/plain": [
       "217"
      ]
     },
     "execution_count": 783,
     "metadata": {},
     "output_type": "execute_result"
    }
   ],
   "source": [
    "# checking null row count\n",
    "df['Company HQ Phone'].isnull().sum()"
   ]
  },
  {
   "cell_type": "code",
   "execution_count": 784,
   "id": "39c0d636-d8fa-448d-8b2b-94b9008365f4",
   "metadata": {},
   "outputs": [],
   "source": [
    "#  replacing nan values with empty string('')\n",
    "df['Company HQ Phone'].fillna('', inplace=True)"
   ]
  },
  {
   "cell_type": "code",
   "execution_count": 785,
   "id": "f09e06a4-e2dc-49a8-9ae8-a75ccbc0c2ec",
   "metadata": {},
   "outputs": [
    {
     "data": {
      "text/plain": [
       "31"
      ]
     },
     "execution_count": 785,
     "metadata": {},
     "output_type": "execute_result"
    }
   ],
   "source": [
    "# checking how many values are not in US Number base format\n",
    "df['Company HQ Phone'].astype(str).apply(lambda x: '+' in x).sum()"
   ]
  },
  {
   "cell_type": "code",
   "execution_count": 786,
   "id": "fbbad855-c513-487e-aa2f-0521ce906cd6",
   "metadata": {},
   "outputs": [],
   "source": [
    "# replacing the dirty data with '' as it seems like differnt countries phone number\n",
    "df.loc[:,'Company HQ Phone'] = df['Company HQ Phone'].astype(str).apply(lambda x: '' if '+' in x else x)"
   ]
  },
  {
   "cell_type": "markdown",
   "id": "22f51bd7-61b4-40cc-94f3-d6bebf76af8f",
   "metadata": {},
   "source": [
    "##### 'Direct Phone Number' "
   ]
  },
  {
   "cell_type": "code",
   "execution_count": 787,
   "id": "b2edec6d-e1bd-42ca-be99-e705edfec026",
   "metadata": {},
   "outputs": [
    {
     "data": {
      "text/plain": [
       "789    (309) 475-4200 ext. 9924\n",
       "769              (202) 489-4848\n",
       "274                         NaN\n",
       "697                         NaN\n",
       "983                         NaN\n",
       "654              (309) 599-4992\n",
       "27                          NaN\n",
       "208              (202) 795-7402\n",
       "850              (202) 447-8932\n",
       "488                         NaN\n",
       "Name: Direct Phone Number, dtype: object"
      ]
     },
     "execution_count": 787,
     "metadata": {},
     "output_type": "execute_result"
    }
   ],
   "source": [
    "# sampeliing\n",
    "df['Direct Phone Number'].sample(10)"
   ]
  },
  {
   "cell_type": "code",
   "execution_count": 788,
   "id": "d6b1fac4-b300-466d-b702-f3220a8a7b31",
   "metadata": {},
   "outputs": [],
   "source": [
    "df['Direct Phone Number'].fillna('', inplace=True)"
   ]
  },
  {
   "cell_type": "code",
   "execution_count": 789,
   "id": "fa097706-36c3-4e32-ade2-e60d2139d164",
   "metadata": {},
   "outputs": [],
   "source": [
    "df.loc[:,'Direct Phone Number'] = df['Direct Phone Number'].astype(str).apply(lambda x: '' if '+' in x else x)"
   ]
  },
  {
   "cell_type": "code",
   "execution_count": 790,
   "id": "68009959-ee83-408c-8215-5e9c8ae98a37",
   "metadata": {},
   "outputs": [
    {
     "data": {
      "text/plain": [
       "0"
      ]
     },
     "execution_count": 790,
     "metadata": {},
     "output_type": "execute_result"
    }
   ],
   "source": [
    "df['Direct Phone Number'].astype(str).apply(lambda x: '+' in x).sum()"
   ]
  },
  {
   "cell_type": "code",
   "execution_count": 791,
   "id": "aec0f1ed-5bdf-4b48-b242-fd6b3ca68a21",
   "metadata": {},
   "outputs": [],
   "source": [
    "df.loc[:,'Direct Phone Number'] = df['Direct Phone Number'].astype(str).apply(lambda x: x.split('ext')[0] if 'ext' in x else x)"
   ]
  },
  {
   "cell_type": "code",
   "execution_count": 792,
   "id": "32ef0861-ef2d-4a17-9ee4-afc4dae54ef2",
   "metadata": {},
   "outputs": [
    {
     "data": {
      "text/plain": [
       "0"
      ]
     },
     "execution_count": 792,
     "metadata": {},
     "output_type": "execute_result"
    }
   ],
   "source": [
    "df['Direct Phone Number'].astype(str).apply(lambda x: 'ext' in x).sum()"
   ]
  },
  {
   "cell_type": "code",
   "execution_count": 793,
   "id": "80e4cdae-e80f-4c70-aaf0-f45fd4801917",
   "metadata": {},
   "outputs": [
    {
     "data": {
      "text/plain": [
       "202                   \n",
       "318    (309) 542-9920 \n",
       "370     (309) 847-3089\n",
       "431                   \n",
       "121    (309) 942-8003 \n",
       "652     (202) 974-4202\n",
       "726                   \n",
       "116     (292) 534-5449\n",
       "940                   \n",
       "501                   \n",
       "Name: Direct Phone Number, dtype: object"
      ]
     },
     "execution_count": 793,
     "metadata": {},
     "output_type": "execute_result"
    }
   ],
   "source": [
    "df['Direct Phone Number'].sample(10)"
   ]
  },
  {
   "cell_type": "markdown",
   "id": "ee1594f1-b78f-49db-b862-923c98c572de",
   "metadata": {},
   "source": [
    "##### 'Mobile phone' column"
   ]
  },
  {
   "cell_type": "code",
   "execution_count": 794,
   "id": "afe0efd1-f7ba-4316-854f-406324cceae1",
   "metadata": {},
   "outputs": [
    {
     "data": {
      "text/plain": [
       "902               NaN\n",
       "439    (703) 999-0529\n",
       "567    (300) 975-7760\n",
       "818    (240) 225-5333\n",
       "160    (570) 639-0245\n",
       "19     (259) 225-2232\n",
       "272    (240) 420-0349\n",
       "913    (259) 609-0267\n",
       "912    (706) 523-0264\n",
       "601               NaN\n",
       "Name: Mobile phone, dtype: object"
      ]
     },
     "execution_count": 794,
     "metadata": {},
     "output_type": "execute_result"
    }
   ],
   "source": [
    "df['Mobile phone'].sample(10)"
   ]
  },
  {
   "cell_type": "code",
   "execution_count": 795,
   "id": "c6ea2930-de18-47ce-8334-fabaee79b342",
   "metadata": {},
   "outputs": [],
   "source": [
    "df.loc[:,'Mobile phone'] = df['Mobile phone'].astype(str).apply(lambda x: '' if '+' in x else x)"
   ]
  },
  {
   "cell_type": "code",
   "execution_count": 796,
   "id": "2ac93f21-4e0f-44da-a5ef-a05d9164347f",
   "metadata": {},
   "outputs": [],
   "source": [
    "df['Mobile phone'].replace('nan',np.nan, inplace=True)"
   ]
  },
  {
   "cell_type": "code",
   "execution_count": 797,
   "id": "ec641d31-9ff2-4244-87b4-4679b6aa8ed6",
   "metadata": {},
   "outputs": [
    {
     "data": {
      "text/plain": [
       "268"
      ]
     },
     "execution_count": 797,
     "metadata": {},
     "output_type": "execute_result"
    }
   ],
   "source": [
    "df['Mobile phone'].isnull().sum()"
   ]
  },
  {
   "cell_type": "code",
   "execution_count": 798,
   "id": "14c41648-e7cb-4cbf-b26d-d42a3a6c3e5f",
   "metadata": {},
   "outputs": [],
   "source": [
    "df['Mobile phone'].fillna('', inplace=True)"
   ]
  },
  {
   "cell_type": "code",
   "execution_count": 799,
   "id": "11442a4e-77a8-4087-9319-95057d8c60ab",
   "metadata": {},
   "outputs": [
    {
     "data": {
      "text/plain": [
       "0"
      ]
     },
     "execution_count": 799,
     "metadata": {},
     "output_type": "execute_result"
    }
   ],
   "source": [
    "df['Mobile phone'].isna().sum()"
   ]
  },
  {
   "cell_type": "code",
   "execution_count": 800,
   "id": "67c82105-99a5-4008-8c84-c22b48dfdfda",
   "metadata": {},
   "outputs": [],
   "source": [
    "df['Mobile phone'].replace('null',np.nan, inplace=True)\n",
    "df['Mobile phone'].fillna('', inplace=True)"
   ]
  },
  {
   "cell_type": "code",
   "execution_count": 801,
   "id": "f39970df-ab73-471d-a425-f778b6662398",
   "metadata": {},
   "outputs": [
    {
     "data": {
      "text/plain": [
       "117    (202) 655-9059\n",
       "626                  \n",
       "537                  \n",
       "301    (300) 704-2393\n",
       "913    (259) 609-0267\n",
       "590    (973) 647-4064\n",
       "17     (703) 622-0373\n",
       "708    (240) 222-5203\n",
       "811                  \n",
       "649    (400) 402-2703\n",
       "Name: Mobile phone, dtype: object"
      ]
     },
     "execution_count": 801,
     "metadata": {},
     "output_type": "execute_result"
    }
   ],
   "source": [
    "df['Mobile phone'].sample(10)"
   ]
  },
  {
   "cell_type": "code",
   "execution_count": 802,
   "id": "bef5d6b8-060d-45f3-b21c-fd534dfeadee",
   "metadata": {},
   "outputs": [],
   "source": [
    "# Emails"
   ]
  },
  {
   "cell_type": "code",
   "execution_count": 803,
   "id": "07720a93-fc83-4427-9530-3470d5544b9e",
   "metadata": {},
   "outputs": [
    {
     "data": {
      "text/plain": [
       "Business Email\n",
       "False    751\n",
       "True     252\n",
       "Name: count, dtype: int64"
      ]
     },
     "execution_count": 803,
     "metadata": {},
     "output_type": "execute_result"
    }
   ],
   "source": [
    "df['Business Email'].duplicated().value_counts()"
   ]
  },
  {
   "cell_type": "code",
   "execution_count": 804,
   "id": "f7d5c90b-0aca-4647-a439-6fc0086d9f00",
   "metadata": {},
   "outputs": [
    {
     "data": {
      "text/plain": [
       "251"
      ]
     },
     "execution_count": 804,
     "metadata": {},
     "output_type": "execute_result"
    }
   ],
   "source": [
    "df['Business Email'].isna().sum()"
   ]
  },
  {
   "cell_type": "code",
   "execution_count": 805,
   "id": "fcf3f4f4-9887-40d0-b61e-b23c68986a9b",
   "metadata": {},
   "outputs": [],
   "source": [
    "df['Business Email'].fillna('', inplace=True)"
   ]
  },
  {
   "cell_type": "code",
   "execution_count": 806,
   "id": "24adda51-f46e-484e-ba29-428883e22e0d",
   "metadata": {},
   "outputs": [
    {
     "data": {
      "text/plain": [
       "907              jay.silveria@tamu.edu\n",
       "262                    wmills@rekor.ai\n",
       "107                     rhart@cgcs.org\n",
       "544      jason.jarreau@oxfordhouse.org\n",
       "518    catherine.guimaraes@mursion.com\n",
       "365                    mmartz@uafa.org\n",
       "953             diana.vasquez@hacu.net\n",
       "39                                    \n",
       "187             megan@simplyeloped.com\n",
       "958              giguerep@stpatsdc.org\n",
       "Name: Business Email, dtype: object"
      ]
     },
     "execution_count": 806,
     "metadata": {},
     "output_type": "execute_result"
    }
   ],
   "source": [
    "df['Business Email'].sample(10)"
   ]
  },
  {
   "cell_type": "code",
   "execution_count": 807,
   "id": "8a5e9cfa-670f-4b0a-acf7-18384dcb3ad0",
   "metadata": {},
   "outputs": [
    {
     "data": {
      "text/plain": [
       "508"
      ]
     },
     "execution_count": 807,
     "metadata": {},
     "output_type": "execute_result"
    }
   ],
   "source": [
    "df['Supplemental Email'].isna().sum()"
   ]
  },
  {
   "cell_type": "code",
   "execution_count": 808,
   "id": "5c38333c-baaa-4308-ba8f-67059d0e97e4",
   "metadata": {},
   "outputs": [],
   "source": [
    "df['Supplemental Email'].fillna('', inplace=True)"
   ]
  },
  {
   "cell_type": "code",
   "execution_count": 809,
   "id": "8f80d444-af2b-4364-9cd5-4f81674c8cfa",
   "metadata": {},
   "outputs": [
    {
     "data": {
      "text/plain": [
       "0"
      ]
     },
     "execution_count": 809,
     "metadata": {},
     "output_type": "execute_result"
    }
   ],
   "source": [
    "df['Supplemental Email'].isna().sum()"
   ]
  },
  {
   "cell_type": "code",
   "execution_count": 810,
   "id": "48a8b23d-521c-48c2-aa1b-0cb4d0cb448d",
   "metadata": {},
   "outputs": [],
   "source": [
    "# Creating All nummbers and Emails columns\n",
    "df['All Number and Email'] = df['Company HQ Phone'] + \" \" + df['Direct Phone Number'] + \" \" + df['Mobile phone'] + \" \" + df['Business Email'] + \" \" + df['Supplemental Email']"
   ]
  },
  {
   "cell_type": "code",
   "execution_count": 811,
   "id": "bd899487-9f62-49d3-9910-14e2fa91a6f4",
   "metadata": {},
   "outputs": [
    {
     "data": {
      "text/plain": [
       "0       (202) 758-2037 (202) 758-2037  (202) 620-2430 ...\n",
       "1       (877) 885-5716 (703) 247-5840  f.zaborowski@us...\n",
       "2                        (202) 459-6825  (202) 469-9994  \n",
       "3                        (202) 467-2600 (202) 534-9584   \n",
       "4       (202) 671-4200 (202) 727-3799 (202) 256-5209 j...\n",
       "                              ...                        \n",
       "999      (202) 288-5224 (504) 620-0209  jhowell28@gmai...\n",
       "1000    (703) 791-7314 (703) 530-4992  albertrm@pwcs.edu \n",
       "1001    (865) 576-3161 (490) 304-9205 (400) 602-7532 p...\n",
       "1002    (301) 762-0700  (262) 220-6532 archer@kennedyk...\n",
       "1003                     (703) 777-9474  (703) 595-3390  \n",
       "Name: All Number and Email, Length: 1003, dtype: object"
      ]
     },
     "execution_count": 811,
     "metadata": {},
     "output_type": "execute_result"
    }
   ],
   "source": [
    "df['All Number and Email'].replace('  ', '')"
   ]
  },
  {
   "cell_type": "code",
   "execution_count": 812,
   "id": "873784af-6ddd-4331-8254-c2fde8b7b3f9",
   "metadata": {},
   "outputs": [
    {
     "data": {
      "text/plain": [
       "0       (202) 758-2037 (202) 758-2037  (202) 620-2430 ...\n",
       "1       (877) 885-5716 (703) 247-5840  f.zaborowski@us...\n",
       "2                        (202) 459-6825  (202) 469-9994  \n",
       "3                        (202) 467-2600 (202) 534-9584   \n",
       "4       (202) 671-4200 (202) 727-3799 (202) 256-5209 j...\n",
       "                              ...                        \n",
       "999      (202) 288-5224 (504) 620-0209  jhowell28@gmai...\n",
       "1000    (703) 791-7314 (703) 530-4992  albertrm@pwcs.edu \n",
       "1001    (865) 576-3161 (490) 304-9205 (400) 602-7532 p...\n",
       "1002    (301) 762-0700  (262) 220-6532 archer@kennedyk...\n",
       "1003                     (703) 777-9474  (703) 595-3390  \n",
       "Name: All Number and Email, Length: 1003, dtype: object"
      ]
     },
     "execution_count": 812,
     "metadata": {},
     "output_type": "execute_result"
    }
   ],
   "source": [
    "df['All Number and Email']"
   ]
  },
  {
   "cell_type": "code",
   "execution_count": null,
   "id": "a402c610-dc95-4b81-af9d-132addd52d27",
   "metadata": {},
   "outputs": [],
   "source": []
  },
  {
   "cell_type": "markdown",
   "id": "6eb30418-134f-4431-a666-76553adb9403",
   "metadata": {},
   "source": [
    "#### Address columns"
   ]
  },
  {
   "cell_type": "markdown",
   "id": "ee1c3e4b-2eee-4568-9cf1-d7eb23405750",
   "metadata": {},
   "source": [
    "##### Person Street Column"
   ]
  },
  {
   "cell_type": "code",
   "execution_count": 813,
   "id": "408c5082-dbe5-422c-877d-b286108f58aa",
   "metadata": {},
   "outputs": [
    {
     "data": {
      "text/plain": [
       "57"
      ]
     },
     "execution_count": 813,
     "metadata": {},
     "output_type": "execute_result"
    }
   ],
   "source": [
    "df['Person Street'].isna().sum()"
   ]
  },
  {
   "cell_type": "code",
   "execution_count": 814,
   "id": "99286633-4fa5-42da-ba13-79e675eb9a07",
   "metadata": {},
   "outputs": [],
   "source": [
    "df['Person Street'].fillna('', inplace=True)"
   ]
  },
  {
   "cell_type": "code",
   "execution_count": 815,
   "id": "18c6b011-4dd8-422e-95f2-c7423fe6e021",
   "metadata": {},
   "outputs": [
    {
     "data": {
      "text/plain": [
       "813                    3482 Mildred Dr\n",
       "337              1909 K St NW Ste C140\n",
       "673                       1901 E St SE\n",
       "380                      224 2nd St SE\n",
       "307                                   \n",
       "153                  1420 King St Fl 1\n",
       "473                     520 13th St SE\n",
       "59     701 Pennsylvania Ave NW Ste 123\n",
       "191                       2136 G St NW\n",
       "747                        702 H St NW\n",
       "Name: Person Street, dtype: object"
      ]
     },
     "execution_count": 815,
     "metadata": {},
     "output_type": "execute_result"
    }
   ],
   "source": [
    "df['Person Street'].sample(10)"
   ]
  },
  {
   "cell_type": "code",
   "execution_count": 816,
   "id": "e5652eab-5713-487d-857e-b057baa74d4f",
   "metadata": {},
   "outputs": [],
   "source": [
    "##### Person City column"
   ]
  },
  {
   "cell_type": "code",
   "execution_count": 817,
   "id": "c7ee6120-99fc-47fe-9b03-5bc77dd38af8",
   "metadata": {},
   "outputs": [
    {
     "data": {
      "text/plain": [
       "0"
      ]
     },
     "execution_count": 817,
     "metadata": {},
     "output_type": "execute_result"
    }
   ],
   "source": [
    "df['Person City'].isna().sum()"
   ]
  },
  {
   "cell_type": "code",
   "execution_count": 818,
   "id": "4311d969-8352-4fee-95f5-e28835208eab",
   "metadata": {},
   "outputs": [],
   "source": [
    "##### Person Zip Code"
   ]
  },
  {
   "cell_type": "code",
   "execution_count": 819,
   "id": "93a27966-cff5-48dc-a30a-ee5181d970dc",
   "metadata": {},
   "outputs": [
    {
     "data": {
      "text/plain": [
       "550    20850\n",
       "201    22314\n",
       "943    20009\n",
       "822    20006\n",
       "224    20910\n",
       "963    20742\n",
       "914    20814\n",
       "206    20444\n",
       "124    22180\n",
       "299    20705\n",
       "Name: Person Zip Code, dtype: object"
      ]
     },
     "execution_count": 819,
     "metadata": {},
     "output_type": "execute_result"
    }
   ],
   "source": [
    "df['Person Zip Code'].sample(10)"
   ]
  },
  {
   "cell_type": "code",
   "execution_count": 820,
   "id": "99f1245d-5126-4f83-95c1-78e1e9459599",
   "metadata": {},
   "outputs": [],
   "source": [
    "df['Person Zip Code'] = df['Person Zip Code'].astype(str).map(lambda x: x.split('-')[0] if '-' in x else x )"
   ]
  },
  {
   "cell_type": "code",
   "execution_count": 821,
   "id": "ed2857bb-87e5-4e49-b8f4-6aaec9817a14",
   "metadata": {},
   "outputs": [
    {
     "data": {
      "text/plain": [
       "0"
      ]
     },
     "execution_count": 821,
     "metadata": {},
     "output_type": "execute_result"
    }
   ],
   "source": [
    "df['Person Zip Code'].map(lambda x :'-' in x).sum()"
   ]
  },
  {
   "cell_type": "code",
   "execution_count": 822,
   "id": "c4615c40-a3fe-4fd2-a723-44125c1efeb1",
   "metadata": {},
   "outputs": [
    {
     "data": {
      "text/plain": [
       "0"
      ]
     },
     "execution_count": 822,
     "metadata": {},
     "output_type": "execute_result"
    }
   ],
   "source": [
    "df['Person Zip Code'].isna().sum()"
   ]
  },
  {
   "cell_type": "code",
   "execution_count": 823,
   "id": "5a7a9c89-721f-4ee1-bc02-87ff9655c126",
   "metadata": {},
   "outputs": [],
   "source": [
    "# Creating an Address Column \n",
    "df['Address'] = df['Person Street'] + \" \" + df['Person City'] + df['Person Zip Code']"
   ]
  },
  {
   "cell_type": "code",
   "execution_count": 824,
   "id": "ceca41ed-370a-4432-bf17-e46ff6686d9e",
   "metadata": {},
   "outputs": [
    {
     "data": {
      "text/plain": [
       "0       1605 Connecticut Ave NW Ste 200 Washington, D....\n",
       "1                       1501 Langston Blvd Arlington22209\n",
       "2                3400 Wheeler Rd SE Washington, D.C.20032\n",
       "3              2900 K St NW Ste 100 Washington, D.C.20007\n",
       "4         920 A-Rhode Island Ave NE Washington, D.C.20018\n",
       "                              ...                        \n",
       "999                                 Washington, D.C.20017\n",
       "1000                        14800 Joplin Rd Manassas20112\n",
       "1001    1140 Connecticut Ave NW Ste 350 Washington, D....\n",
       "1002                   1006 Williamstown Dr Dumfries22026\n",
       "1003                   44710 Cape Ct Ste 138 Ashburn20175\n",
       "Name: Address, Length: 1003, dtype: object"
      ]
     },
     "execution_count": 824,
     "metadata": {},
     "output_type": "execute_result"
    }
   ],
   "source": [
    "df['Address'].replace(\"  \", ' ')"
   ]
  },
  {
   "cell_type": "markdown",
   "id": "bfc800e7-4fd1-4356-a2ac-3fce9e78de5b",
   "metadata": {},
   "source": [
    "#### Job Title"
   ]
  },
  {
   "cell_type": "code",
   "execution_count": 825,
   "id": "d8b1cf98-5b3f-48f8-b69c-5e9a147435cd",
   "metadata": {},
   "outputs": [
    {
     "data": {
      "text/plain": [
       "102                          Director, Civil Engineering\n",
       "978                                    Territory Manager\n",
       "152                                    Assistant Manager\n",
       "211                                 Director, Operations\n",
       "894    Manager, Information Technology Business Integ...\n",
       "974                                       Head of School\n",
       "494                                   Executive Director\n",
       "888                                   Associate Director\n",
       "247                                    Manager, Business\n",
       "292                                             Director\n",
       "Name: Job Title, dtype: object"
      ]
     },
     "execution_count": 825,
     "metadata": {},
     "output_type": "execute_result"
    }
   ],
   "source": [
    "df[\"Job Title\"].sample(10)"
   ]
  },
  {
   "cell_type": "code",
   "execution_count": 826,
   "id": "42f73539-5ade-483f-8a28-b76f2e19b945",
   "metadata": {},
   "outputs": [],
   "source": [
    "df['Job Title'] = df['Job Title'].astype(str).apply(lambda x: x.split(',')[0])"
   ]
  },
  {
   "cell_type": "code",
   "execution_count": 827,
   "id": "76cbca94-3ec2-4bb8-ab8b-5f9a5210306f",
   "metadata": {},
   "outputs": [
    {
     "data": {
      "text/plain": [
       "0"
      ]
     },
     "execution_count": 827,
     "metadata": {},
     "output_type": "execute_result"
    }
   ],
   "source": [
    "df['Job Title'].isna().sum()"
   ]
  },
  {
   "cell_type": "code",
   "execution_count": 828,
   "id": "f4a9a8c9-8ab0-484e-b79f-e7da0d1a6943",
   "metadata": {},
   "outputs": [],
   "source": [
    "df.rename(columns={'LinkedIn Contact Profile URL':\"LinkedIn\"}, inplace=True)"
   ]
  },
  {
   "cell_type": "code",
   "execution_count": 829,
   "id": "3206f9d3-d272-4090-a3da-306a5b95c5ea",
   "metadata": {},
   "outputs": [
    {
     "data": {
      "text/plain": [
       "342"
      ]
     },
     "execution_count": 829,
     "metadata": {},
     "output_type": "execute_result"
    }
   ],
   "source": [
    "df['LinkedIn'].isna().sum()"
   ]
  },
  {
   "cell_type": "code",
   "execution_count": 830,
   "id": "cd866337-0361-4c0f-8049-158fd635f671",
   "metadata": {},
   "outputs": [],
   "source": [
    "df['LinkedIn'].fillna('not filled', inplace=True)"
   ]
  },
  {
   "cell_type": "code",
   "execution_count": 831,
   "id": "688c0349-8219-4fcd-a535-acd77f1f4816",
   "metadata": {},
   "outputs": [
    {
     "data": {
      "text/plain": [
       "0       https://www.linkedin.com/in/dan-snook-aia-45a3...\n",
       "1       https://www.linkedin.com/in/frank-zaborowski-5...\n",
       "2                                              not filled\n",
       "3                                              not filled\n",
       "4                                              not filled\n",
       "                              ...                        \n",
       "999     https://www.linkedin.com/in/james-howell-fundr...\n",
       "1000                                           not filled\n",
       "1001    https://www.linkedin.com/in/patrick-mccaffrey-...\n",
       "1002    https://www.linkedin.com/in/william-will-arche...\n",
       "1003                                           not filled\n",
       "Name: LinkedIn, Length: 1003, dtype: object"
      ]
     },
     "execution_count": 831,
     "metadata": {},
     "output_type": "execute_result"
    }
   ],
   "source": [
    "df['LinkedIn']"
   ]
  },
  {
   "cell_type": "code",
   "execution_count": null,
   "id": "b65edf06-a41c-43d3-9234-92095961a093",
   "metadata": {},
   "outputs": [],
   "source": []
  },
  {
   "cell_type": "code",
   "execution_count": null,
   "id": "71e17914-396b-4fde-a840-28475c7127cc",
   "metadata": {},
   "outputs": [],
   "source": []
  },
  {
   "cell_type": "markdown",
   "id": "b04c878a-f415-48d4-baa0-798815854d50",
   "metadata": {},
   "source": [
    "<!-- Making New DataFrame with Required columns  or we can also drop those columns which we dont need -->"
   ]
  },
  {
   "cell_type": "code",
   "execution_count": 832,
   "id": "c4a03e8d-12a5-4a31-826c-e7fa6330effa",
   "metadata": {},
   "outputs": [],
   "source": [
    "new_df = df[['Full Name', 'Job Title', 'All Number and Email', 'Organisation Name', 'Address', 'Website', 'LinkedIn']]"
   ]
  },
  {
   "cell_type": "code",
   "execution_count": null,
   "id": "c1cc8b00-3e4e-4954-9ed7-30dccf865afc",
   "metadata": {},
   "outputs": [],
   "source": []
  },
  {
   "cell_type": "code",
   "execution_count": 833,
   "id": "e0be72ef-e2ca-4736-ac9d-79d8cde027a6",
   "metadata": {},
   "outputs": [],
   "source": [
    "#### checking duplicate values"
   ]
  },
  {
   "cell_type": "code",
   "execution_count": 834,
   "id": "6f0e47f6-1d0e-4cdd-b48e-dc40289a77cc",
   "metadata": {},
   "outputs": [
    {
     "data": {
      "text/plain": [
       "Full Name               1001\n",
       "Job Title                305\n",
       "All Number and Email     999\n",
       "Organisation Name        996\n",
       "Address                  946\n",
       "Website                  915\n",
       "LinkedIn                 660\n",
       "dtype: int64"
      ]
     },
     "execution_count": 834,
     "metadata": {},
     "output_type": "execute_result"
    }
   ],
   "source": [
    "new_df.nunique()"
   ]
  },
  {
   "cell_type": "code",
   "execution_count": 853,
   "id": "1d968920-95c7-4431-ad19-bdc2e3bf83f2",
   "metadata": {},
   "outputs": [
    {
     "data": {
      "text/plain": [
       "848              not filled\n",
       "74     www.tworiverspcs.org\n",
       "926              not filled\n",
       "512              not filled\n",
       "548              not filled\n",
       "415              not filled\n",
       "823              not filled\n",
       "280              not filled\n",
       "307              not filled\n",
       "800              not filled\n",
       "Name: Website, dtype: object"
      ]
     },
     "execution_count": 853,
     "metadata": {},
     "output_type": "execute_result"
    }
   ],
   "source": [
    "new_df[new_df['Website'].duplicated()]['Website'].sample(10)"
   ]
  },
  {
   "cell_type": "code",
   "execution_count": 840,
   "id": "22a8e3d1-0e41-4254-b8dc-4be5b9216cba",
   "metadata": {},
   "outputs": [],
   "source": [
    "# new_df.drop_duplicates(keep='first', inplace=True)"
   ]
  },
  {
   "cell_type": "code",
   "execution_count": 837,
   "id": "a94abd58-6c60-4caa-817a-e69a05da4fb0",
   "metadata": {},
   "outputs": [],
   "source": [
    "# new_df[new_df['Website'].duplicated()]['Website'].sample(10)"
   ]
  },
  {
   "cell_type": "code",
   "execution_count": 845,
   "id": "7e5aec60-c721-46a1-b525-8e822a913a7e",
   "metadata": {},
   "outputs": [
    {
     "data": {
      "text/html": [
       "<div>\n",
       "<style scoped>\n",
       "    .dataframe tbody tr th:only-of-type {\n",
       "        vertical-align: middle;\n",
       "    }\n",
       "\n",
       "    .dataframe tbody tr th {\n",
       "        vertical-align: top;\n",
       "    }\n",
       "\n",
       "    .dataframe thead th {\n",
       "        text-align: right;\n",
       "    }\n",
       "</style>\n",
       "<table border=\"1\" class=\"dataframe\">\n",
       "  <thead>\n",
       "    <tr style=\"text-align: right;\">\n",
       "      <th></th>\n",
       "      <th>Full Name</th>\n",
       "      <th>Job Title</th>\n",
       "      <th>All Number and Email</th>\n",
       "      <th>Organisation Name</th>\n",
       "      <th>Address</th>\n",
       "      <th>Website</th>\n",
       "      <th>LinkedIn</th>\n",
       "    </tr>\n",
       "  </thead>\n",
       "  <tbody>\n",
       "    <tr>\n",
       "      <th>9</th>\n",
       "      <td>Raleigh  Griggs</td>\n",
       "      <td>Project Manager</td>\n",
       "      <td>(703) 777-9474  (703) 595-3390</td>\n",
       "      <td>Kbf</td>\n",
       "      <td>44710 Cape Ct Ste 138 Ashburn20175</td>\n",
       "      <td>www.kbfbyaudi.com</td>\n",
       "      <td>not filled</td>\n",
       "    </tr>\n",
       "    <tr>\n",
       "      <th>1003</th>\n",
       "      <td>Raleigh  Griggs</td>\n",
       "      <td>Project Manager</td>\n",
       "      <td>(703) 777-9474  (703) 595-3390</td>\n",
       "      <td>Kbf</td>\n",
       "      <td>44710 Cape Ct Ste 138 Ashburn20175</td>\n",
       "      <td>www.kbfbyaudi.com</td>\n",
       "      <td>not filled</td>\n",
       "    </tr>\n",
       "  </tbody>\n",
       "</table>\n",
       "</div>"
      ],
      "text/plain": [
       "            Full Name        Job Title              All Number and Email  \\\n",
       "9     Raleigh  Griggs  Project Manager  (703) 777-9474  (703) 595-3390     \n",
       "1003  Raleigh  Griggs  Project Manager  (703) 777-9474  (703) 595-3390     \n",
       "\n",
       "     Organisation Name                             Address            Website  \\\n",
       "9                  Kbf  44710 Cape Ct Ste 138 Ashburn20175  www.kbfbyaudi.com   \n",
       "1003               Kbf  44710 Cape Ct Ste 138 Ashburn20175  www.kbfbyaudi.com   \n",
       "\n",
       "        LinkedIn  \n",
       "9     not filled  \n",
       "1003  not filled  "
      ]
     },
     "execution_count": 845,
     "metadata": {},
     "output_type": "execute_result"
    }
   ],
   "source": [
    "new_df[new_df['Website']=='www.kbfbyaudi.com']"
   ]
  },
  {
   "cell_type": "code",
   "execution_count": 848,
   "id": "a6c94e6d-6c2c-45f6-a560-cb226a2564da",
   "metadata": {},
   "outputs": [
    {
     "data": {
      "text/html": [
       "<div>\n",
       "<style scoped>\n",
       "    .dataframe tbody tr th:only-of-type {\n",
       "        vertical-align: middle;\n",
       "    }\n",
       "\n",
       "    .dataframe tbody tr th {\n",
       "        vertical-align: top;\n",
       "    }\n",
       "\n",
       "    .dataframe thead th {\n",
       "        text-align: right;\n",
       "    }\n",
       "</style>\n",
       "<table border=\"1\" class=\"dataframe\">\n",
       "  <thead>\n",
       "    <tr style=\"text-align: right;\">\n",
       "      <th></th>\n",
       "      <th>Full Name</th>\n",
       "      <th>Job Title</th>\n",
       "      <th>All Number and Email</th>\n",
       "      <th>Organisation Name</th>\n",
       "      <th>Address</th>\n",
       "      <th>Website</th>\n",
       "      <th>LinkedIn</th>\n",
       "    </tr>\n",
       "  </thead>\n",
       "  <tbody>\n",
       "    <tr>\n",
       "      <th>40</th>\n",
       "      <td>William  Archer</td>\n",
       "      <td>Lead Pastor and Executive Director</td>\n",
       "      <td>(301) 762-0700  (262) 220-6532 archer@kennedyk...</td>\n",
       "      <td>Potomac Valley</td>\n",
       "      <td>1006 Williamstown Dr Dumfries22026</td>\n",
       "      <td>www.potomacvalleyhc.com</td>\n",
       "      <td>https://www.linkedin.com/in/william-will-arche...</td>\n",
       "    </tr>\n",
       "    <tr>\n",
       "      <th>1002</th>\n",
       "      <td>William  Archer</td>\n",
       "      <td>Lead Pastor and Executive Director</td>\n",
       "      <td>(301) 762-0700  (262) 220-6532 archer@kennedyk...</td>\n",
       "      <td>Potomac Valley</td>\n",
       "      <td>1006 Williamstown Dr Dumfries22026</td>\n",
       "      <td>www.potomacvalleyhc.com</td>\n",
       "      <td>https://www.linkedin.com/in/william-will-arche...</td>\n",
       "    </tr>\n",
       "  </tbody>\n",
       "</table>\n",
       "</div>"
      ],
      "text/plain": [
       "            Full Name                           Job Title  \\\n",
       "40    William  Archer  Lead Pastor and Executive Director   \n",
       "1002  William  Archer  Lead Pastor and Executive Director   \n",
       "\n",
       "                                   All Number and Email Organisation Name  \\\n",
       "40    (301) 762-0700  (262) 220-6532 archer@kennedyk...    Potomac Valley   \n",
       "1002  (301) 762-0700  (262) 220-6532 archer@kennedyk...    Potomac Valley   \n",
       "\n",
       "                                 Address                  Website  \\\n",
       "40    1006 Williamstown Dr Dumfries22026  www.potomacvalleyhc.com   \n",
       "1002  1006 Williamstown Dr Dumfries22026  www.potomacvalleyhc.com   \n",
       "\n",
       "                                               LinkedIn  \n",
       "40    https://www.linkedin.com/in/william-will-arche...  \n",
       "1002  https://www.linkedin.com/in/william-will-arche...  "
      ]
     },
     "execution_count": 848,
     "metadata": {},
     "output_type": "execute_result"
    }
   ],
   "source": [
    "new_df[new_df['Website']=='www.potomacvalleyhc.com']"
   ]
  },
  {
   "cell_type": "code",
   "execution_count": 855,
   "id": "39df4a6e-ee20-4318-bc51-273a02825411",
   "metadata": {},
   "outputs": [
    {
     "data": {
      "text/html": [
       "<div>\n",
       "<style scoped>\n",
       "    .dataframe tbody tr th:only-of-type {\n",
       "        vertical-align: middle;\n",
       "    }\n",
       "\n",
       "    .dataframe tbody tr th {\n",
       "        vertical-align: top;\n",
       "    }\n",
       "\n",
       "    .dataframe thead th {\n",
       "        text-align: right;\n",
       "    }\n",
       "</style>\n",
       "<table border=\"1\" class=\"dataframe\">\n",
       "  <thead>\n",
       "    <tr style=\"text-align: right;\">\n",
       "      <th></th>\n",
       "      <th>Full Name</th>\n",
       "      <th>Job Title</th>\n",
       "      <th>All Number and Email</th>\n",
       "      <th>Organisation Name</th>\n",
       "      <th>Address</th>\n",
       "      <th>Website</th>\n",
       "      <th>LinkedIn</th>\n",
       "    </tr>\n",
       "  </thead>\n",
       "  <tbody>\n",
       "    <tr>\n",
       "      <th>73</th>\n",
       "      <td>Mary  Gornick</td>\n",
       "      <td>Senior Director</td>\n",
       "      <td>(202) 890-5597  mgornick@tworiverspcs.org mar...</td>\n",
       "      <td>Two Rivers Public Charter School</td>\n",
       "      <td>1227 4th St NE Washington, D.C.20002</td>\n",
       "      <td>www.tworiverspcs.org</td>\n",
       "      <td>https://www.linkedin.com/in/reedmorrison</td>\n",
       "    </tr>\n",
       "    <tr>\n",
       "      <th>74</th>\n",
       "      <td>haszli  maters</td>\n",
       "      <td>Senior Director</td>\n",
       "      <td>(340) 949-9494  haszli-maters@apachehub.com m...</td>\n",
       "      <td>Two Rivers Public Charter School</td>\n",
       "      <td>1227 4th St NE Washington, D.C.20002</td>\n",
       "      <td>www.tworiverspcs.org</td>\n",
       "      <td>https://www.linkedin.com/in/reedmorrison</td>\n",
       "    </tr>\n",
       "  </tbody>\n",
       "</table>\n",
       "</div>"
      ],
      "text/plain": [
       "         Full Name        Job Title  \\\n",
       "73   Mary  Gornick  Senior Director   \n",
       "74  haszli  maters  Senior Director   \n",
       "\n",
       "                                 All Number and Email  \\\n",
       "73   (202) 890-5597  mgornick@tworiverspcs.org mar...   \n",
       "74   (340) 949-9494  haszli-maters@apachehub.com m...   \n",
       "\n",
       "                   Organisation Name                               Address  \\\n",
       "73  Two Rivers Public Charter School  1227 4th St NE Washington, D.C.20002   \n",
       "74  Two Rivers Public Charter School  1227 4th St NE Washington, D.C.20002   \n",
       "\n",
       "                 Website                                  LinkedIn  \n",
       "73  www.tworiverspcs.org  https://www.linkedin.com/in/reedmorrison  \n",
       "74  www.tworiverspcs.org  https://www.linkedin.com/in/reedmorrison  "
      ]
     },
     "execution_count": 855,
     "metadata": {},
     "output_type": "execute_result"
    }
   ],
   "source": [
    "new_df[new_df['Website']=='www.tworiverspcs.org']"
   ]
  },
  {
   "cell_type": "code",
   "execution_count": 856,
   "id": "4084c8ce-2eb6-4d46-9834-d961c2befa0e",
   "metadata": {},
   "outputs": [
    {
     "name": "stderr",
     "output_type": "stream",
     "text": [
      "/var/folders/s8/1hl12tjx0b71pdccf5xwchch0000gn/T/ipykernel_56176/3198514045.py:1: SettingWithCopyWarning: \n",
      "A value is trying to be set on a copy of a slice from a DataFrame\n",
      "\n",
      "See the caveats in the documentation: https://pandas.pydata.org/pandas-docs/stable/user_guide/indexing.html#returning-a-view-versus-a-copy\n",
      "  new_df.drop_duplicates(keep='first', inplace=True)\n"
     ]
    }
   ],
   "source": [
    "new_df.drop_duplicates(keep='first', inplace=True)"
   ]
  },
  {
   "cell_type": "code",
   "execution_count": 857,
   "id": "01afed3d-59b5-4efa-9889-23c5e67e2d5b",
   "metadata": {},
   "outputs": [],
   "source": [
    "new_df = new_df.copy()  # Create a copy of the slice first\n",
    "new_df.drop_duplicates(keep='first', inplace=True)"
   ]
  },
  {
   "cell_type": "code",
   "execution_count": 864,
   "id": "6e8e14ea-dba1-45af-bfd7-958511061bcf",
   "metadata": {},
   "outputs": [
    {
     "data": {
      "text/html": [
       "<div>\n",
       "<style scoped>\n",
       "    .dataframe tbody tr th:only-of-type {\n",
       "        vertical-align: middle;\n",
       "    }\n",
       "\n",
       "    .dataframe tbody tr th {\n",
       "        vertical-align: top;\n",
       "    }\n",
       "\n",
       "    .dataframe thead th {\n",
       "        text-align: right;\n",
       "    }\n",
       "</style>\n",
       "<table border=\"1\" class=\"dataframe\">\n",
       "  <thead>\n",
       "    <tr style=\"text-align: right;\">\n",
       "      <th></th>\n",
       "      <th>Full Name</th>\n",
       "      <th>Job Title</th>\n",
       "      <th>All Number and Email</th>\n",
       "      <th>Organisation Name</th>\n",
       "      <th>Address</th>\n",
       "      <th>Website</th>\n",
       "      <th>LinkedIn</th>\n",
       "    </tr>\n",
       "  </thead>\n",
       "  <tbody>\n",
       "    <tr>\n",
       "      <th>73</th>\n",
       "      <td>Mary  Gornick</td>\n",
       "      <td>Senior Director</td>\n",
       "      <td>(202) 890-5597  mgornick@tworiverspcs.org mar...</td>\n",
       "      <td>Two Rivers Public Charter School</td>\n",
       "      <td>1227 4th St NE Washington, D.C.20002</td>\n",
       "      <td>www.tworiverspcs.org</td>\n",
       "      <td>https://www.linkedin.com/in/reedmorrison</td>\n",
       "    </tr>\n",
       "  </tbody>\n",
       "</table>\n",
       "</div>"
      ],
      "text/plain": [
       "        Full Name        Job Title  \\\n",
       "73  Mary  Gornick  Senior Director   \n",
       "\n",
       "                                 All Number and Email  \\\n",
       "73   (202) 890-5597  mgornick@tworiverspcs.org mar...   \n",
       "\n",
       "                   Organisation Name                               Address  \\\n",
       "73  Two Rivers Public Charter School  1227 4th St NE Washington, D.C.20002   \n",
       "\n",
       "                 Website                                  LinkedIn  \n",
       "73  www.tworiverspcs.org  https://www.linkedin.com/in/reedmorrison  "
      ]
     },
     "execution_count": 864,
     "metadata": {},
     "output_type": "execute_result"
    }
   ],
   "source": [
    "new_df[new_df['Website']=='www.tworiverspcs.org']"
   ]
  },
  {
   "cell_type": "code",
   "execution_count": 863,
   "id": "0cd4c365-0776-4113-80f2-7a8e1fe748aa",
   "metadata": {},
   "outputs": [],
   "source": [
    "new_df = new_df[~((new_df['Website'] == 'www.tworiverspcs.org') & new_df.duplicated(subset='Website', keep='first'))]\n"
   ]
  },
  {
   "cell_type": "code",
   "execution_count": 865,
   "id": "b550910c-f6e4-4049-9459-b7be2d01da3d",
   "metadata": {},
   "outputs": [],
   "source": [
    "new_df = new_df[~((new_df['Website'] == 'www.potomacvalleyhc.com') & new_df.duplicated(subset='Website', keep='first'))]"
   ]
  },
  {
   "cell_type": "code",
   "execution_count": 866,
   "id": "c001b9b0-4d36-4f7d-beb0-b8516d527fbf",
   "metadata": {},
   "outputs": [
    {
     "data": {
      "text/html": [
       "<div>\n",
       "<style scoped>\n",
       "    .dataframe tbody tr th:only-of-type {\n",
       "        vertical-align: middle;\n",
       "    }\n",
       "\n",
       "    .dataframe tbody tr th {\n",
       "        vertical-align: top;\n",
       "    }\n",
       "\n",
       "    .dataframe thead th {\n",
       "        text-align: right;\n",
       "    }\n",
       "</style>\n",
       "<table border=\"1\" class=\"dataframe\">\n",
       "  <thead>\n",
       "    <tr style=\"text-align: right;\">\n",
       "      <th></th>\n",
       "      <th>Full Name</th>\n",
       "      <th>Job Title</th>\n",
       "      <th>All Number and Email</th>\n",
       "      <th>Organisation Name</th>\n",
       "      <th>Address</th>\n",
       "      <th>Website</th>\n",
       "      <th>LinkedIn</th>\n",
       "    </tr>\n",
       "  </thead>\n",
       "  <tbody>\n",
       "    <tr>\n",
       "      <th>40</th>\n",
       "      <td>William  Archer</td>\n",
       "      <td>Lead Pastor and Executive Director</td>\n",
       "      <td>(301) 762-0700  (262) 220-6532 archer@kennedyk...</td>\n",
       "      <td>Potomac Valley</td>\n",
       "      <td>1006 Williamstown Dr Dumfries22026</td>\n",
       "      <td>www.potomacvalleyhc.com</td>\n",
       "      <td>https://www.linkedin.com/in/william-will-arche...</td>\n",
       "    </tr>\n",
       "  </tbody>\n",
       "</table>\n",
       "</div>"
      ],
      "text/plain": [
       "          Full Name                           Job Title  \\\n",
       "40  William  Archer  Lead Pastor and Executive Director   \n",
       "\n",
       "                                 All Number and Email Organisation Name  \\\n",
       "40  (301) 762-0700  (262) 220-6532 archer@kennedyk...    Potomac Valley   \n",
       "\n",
       "                               Address                  Website  \\\n",
       "40  1006 Williamstown Dr Dumfries22026  www.potomacvalleyhc.com   \n",
       "\n",
       "                                             LinkedIn  \n",
       "40  https://www.linkedin.com/in/william-will-arche...  "
      ]
     },
     "execution_count": 866,
     "metadata": {},
     "output_type": "execute_result"
    }
   ],
   "source": [
    "new_df[new_df['Website']=='www.potomacvalleyhc.com']"
   ]
  },
  {
   "cell_type": "code",
   "execution_count": 867,
   "id": "0c7d5731-9a12-46ba-85e6-b6b47017f979",
   "metadata": {},
   "outputs": [],
   "source": [
    "new_df = new_df[~((new_df['Website'] == 'www.kbfbyaudi.com') & new_df.duplicated(subset='Website', keep='first'))]"
   ]
  },
  {
   "cell_type": "code",
   "execution_count": 868,
   "id": "17aef661-a024-44ba-b112-636e3a2e412a",
   "metadata": {},
   "outputs": [
    {
     "data": {
      "text/html": [
       "<div>\n",
       "<style scoped>\n",
       "    .dataframe tbody tr th:only-of-type {\n",
       "        vertical-align: middle;\n",
       "    }\n",
       "\n",
       "    .dataframe tbody tr th {\n",
       "        vertical-align: top;\n",
       "    }\n",
       "\n",
       "    .dataframe thead th {\n",
       "        text-align: right;\n",
       "    }\n",
       "</style>\n",
       "<table border=\"1\" class=\"dataframe\">\n",
       "  <thead>\n",
       "    <tr style=\"text-align: right;\">\n",
       "      <th></th>\n",
       "      <th>Full Name</th>\n",
       "      <th>Job Title</th>\n",
       "      <th>All Number and Email</th>\n",
       "      <th>Organisation Name</th>\n",
       "      <th>Address</th>\n",
       "      <th>Website</th>\n",
       "      <th>LinkedIn</th>\n",
       "    </tr>\n",
       "  </thead>\n",
       "  <tbody>\n",
       "    <tr>\n",
       "      <th>9</th>\n",
       "      <td>Raleigh  Griggs</td>\n",
       "      <td>Project Manager</td>\n",
       "      <td>(703) 777-9474  (703) 595-3390</td>\n",
       "      <td>Kbf</td>\n",
       "      <td>44710 Cape Ct Ste 138 Ashburn20175</td>\n",
       "      <td>www.kbfbyaudi.com</td>\n",
       "      <td>not filled</td>\n",
       "    </tr>\n",
       "  </tbody>\n",
       "</table>\n",
       "</div>"
      ],
      "text/plain": [
       "         Full Name        Job Title              All Number and Email  \\\n",
       "9  Raleigh  Griggs  Project Manager  (703) 777-9474  (703) 595-3390     \n",
       "\n",
       "  Organisation Name                             Address            Website  \\\n",
       "9               Kbf  44710 Cape Ct Ste 138 Ashburn20175  www.kbfbyaudi.com   \n",
       "\n",
       "     LinkedIn  \n",
       "9  not filled  "
      ]
     },
     "execution_count": 868,
     "metadata": {},
     "output_type": "execute_result"
    }
   ],
   "source": [
    "new_df[new_df['Website']=='www.kbfbyaudi.com']"
   ]
  },
  {
   "cell_type": "code",
   "execution_count": 894,
   "id": "87dece71-45df-44c5-8ff6-e876321ee1b4",
   "metadata": {},
   "outputs": [
    {
     "data": {
      "text/plain": [
       "982    not filled\n",
       "840    not filled\n",
       "90     not filled\n",
       "898    not filled\n",
       "462    not filled\n",
       "87     not filled\n",
       "320    not filled\n",
       "65     not filled\n",
       "41     not filled\n",
       "904    not filled\n",
       "Name: Website, dtype: object"
      ]
     },
     "execution_count": 894,
     "metadata": {},
     "output_type": "execute_result"
    }
   ],
   "source": [
    "new_df[new_df['Website'].duplicated()]['Website'].sample(10)"
   ]
  },
  {
   "cell_type": "code",
   "execution_count": 901,
   "id": "59810dfe-0997-479d-b66b-2b81c0849710",
   "metadata": {},
   "outputs": [],
   "source": [
    "#  converting dataframe into excel file\n",
    "\n",
    "new_df.to_excel('Cleaned_data.xlsx', index=False)"
   ]
  },
  {
   "cell_type": "code",
   "execution_count": 902,
   "id": "d613eacc-c4cf-4393-bb83-c746ddf7cf76",
   "metadata": {},
   "outputs": [],
   "source": [
    "cd_df = pd.read_excel('Cleaned_data.xlsx')"
   ]
  },
  {
   "cell_type": "code",
   "execution_count": 903,
   "id": "7909a98f-5cf4-450c-80dc-b6ef45fab77a",
   "metadata": {},
   "outputs": [
    {
     "data": {
      "text/html": [
       "<div>\n",
       "<style scoped>\n",
       "    .dataframe tbody tr th:only-of-type {\n",
       "        vertical-align: middle;\n",
       "    }\n",
       "\n",
       "    .dataframe tbody tr th {\n",
       "        vertical-align: top;\n",
       "    }\n",
       "\n",
       "    .dataframe thead th {\n",
       "        text-align: right;\n",
       "    }\n",
       "</style>\n",
       "<table border=\"1\" class=\"dataframe\">\n",
       "  <thead>\n",
       "    <tr style=\"text-align: right;\">\n",
       "      <th></th>\n",
       "      <th>Full Name</th>\n",
       "      <th>Job Title</th>\n",
       "      <th>All Number and Email</th>\n",
       "      <th>Organisation Name</th>\n",
       "      <th>Address</th>\n",
       "      <th>Website</th>\n",
       "      <th>LinkedIn</th>\n",
       "    </tr>\n",
       "  </thead>\n",
       "  <tbody>\n",
       "    <tr>\n",
       "      <th>0</th>\n",
       "      <td>Dan  Snook</td>\n",
       "      <td>Project Manager</td>\n",
       "      <td>(202) 758-2037 (202) 758-2037  (202) 620-2430 ...</td>\n",
       "      <td>iSTUDIO</td>\n",
       "      <td>1605 Connecticut Ave NW Ste 200 Washington, D....</td>\n",
       "      <td>www.istudio.com</td>\n",
       "      <td>https://www.linkedin.com/in/dan-snook-aia-45a3...</td>\n",
       "    </tr>\n",
       "    <tr>\n",
       "      <th>1</th>\n",
       "      <td>Frank  Zaborowski</td>\n",
       "      <td>Director</td>\n",
       "      <td>(877) 885-5716 (703) 247-5840  f.zaborowski@us...</td>\n",
       "      <td>CyberPatriot</td>\n",
       "      <td>1501 Langston Blvd Arlington22209</td>\n",
       "      <td>www.uscyberpatriot.org</td>\n",
       "      <td>https://www.linkedin.com/in/frank-zaborowski-5...</td>\n",
       "    </tr>\n",
       "    <tr>\n",
       "      <th>2</th>\n",
       "      <td>Vernal L. Crooms</td>\n",
       "      <td>Director</td>\n",
       "      <td>(202) 459-6825  (202) 469-9994</td>\n",
       "      <td>Eagle Academy Public Charter School</td>\n",
       "      <td>3400 Wheeler Rd SE Washington, D.C.20032</td>\n",
       "      <td>www.eagleacademypcs.org</td>\n",
       "      <td>not filled</td>\n",
       "    </tr>\n",
       "    <tr>\n",
       "      <th>3</th>\n",
       "      <td>Rolf  Hoijer</td>\n",
       "      <td>Head of Office</td>\n",
       "      <td>(202) 467-2600 (202) 534-9584</td>\n",
       "      <td>Embassy of Sweden</td>\n",
       "      <td>2900 K St NW Ste 100 Washington, D.C.20007</td>\n",
       "      <td>www.swedenabroad.se/en/embassies/usa-washington</td>\n",
       "      <td>not filled</td>\n",
       "    </tr>\n",
       "    <tr>\n",
       "      <th>4</th>\n",
       "      <td>Jaleesa  Miller</td>\n",
       "      <td>Case Manager</td>\n",
       "      <td>(202) 671-4200 (202) 727-3799 (202) 256-5209 j...</td>\n",
       "      <td>DC Department of Human Services</td>\n",
       "      <td>920 A-Rhode Island Ave NE Washington, D.C.20018</td>\n",
       "      <td>dhs.dc.gov</td>\n",
       "      <td>not filled</td>\n",
       "    </tr>\n",
       "    <tr>\n",
       "      <th>...</th>\n",
       "      <td>...</td>\n",
       "      <td>...</td>\n",
       "      <td>...</td>\n",
       "      <td>...</td>\n",
       "      <td>...</td>\n",
       "      <td>...</td>\n",
       "      <td>...</td>\n",
       "    </tr>\n",
       "    <tr>\n",
       "      <th>995</th>\n",
       "      <td>Paul F. Hicks</td>\n",
       "      <td>Band Director</td>\n",
       "      <td>(540) 422-7470 (540) 422-7450</td>\n",
       "      <td>Marshall Middle School</td>\n",
       "      <td>4048 Zulla Rd The Plains20198</td>\n",
       "      <td>not filled</td>\n",
       "      <td>https://www.linkedin.com/in/paul-hicks-779a024b</td>\n",
       "    </tr>\n",
       "    <tr>\n",
       "      <th>996</th>\n",
       "      <td>Jose  Campi-portaluppi</td>\n",
       "      <td>Director</td>\n",
       "      <td></td>\n",
       "      <td>Equimundo (Formerly Promundo-US</td>\n",
       "      <td>1367 Connecticut Ave NW Ste 210 Washington, D....</td>\n",
       "      <td>www.equimundo.org</td>\n",
       "      <td>not filled</td>\n",
       "    </tr>\n",
       "    <tr>\n",
       "      <th>997</th>\n",
       "      <td>James  Howell</td>\n",
       "      <td>Executive Director</td>\n",
       "      <td>(202) 288-5224 (504) 620-0209  jhowell28@gmai...</td>\n",
       "      <td>Bethlehem University Foundation</td>\n",
       "      <td>Washington, D.C.20017</td>\n",
       "      <td>www.bethlehem.edu</td>\n",
       "      <td>https://www.linkedin.com/in/james-howell-fundr...</td>\n",
       "    </tr>\n",
       "    <tr>\n",
       "      <th>998</th>\n",
       "      <td>Robert  Albert</td>\n",
       "      <td>Food Service Manager I</td>\n",
       "      <td>(703) 791-7314 (703) 530-4992  albertrm@pwcs.edu</td>\n",
       "      <td>Prince William County Public Schools</td>\n",
       "      <td>14800 Joplin Rd Manassas20112</td>\n",
       "      <td>www.pwcsnutrition.com</td>\n",
       "      <td>not filled</td>\n",
       "    </tr>\n",
       "    <tr>\n",
       "      <th>999</th>\n",
       "      <td>Patrick  McCaffrey</td>\n",
       "      <td>Section Manager</td>\n",
       "      <td>(865) 576-3161 (490) 304-9205 (400) 602-7532 p...</td>\n",
       "      <td>Oak Ridge Associated Universities</td>\n",
       "      <td>1140 Connecticut Ave NW Ste 350 Washington, D....</td>\n",
       "      <td>www.orau.org</td>\n",
       "      <td>https://www.linkedin.com/in/patrick-mccaffrey-...</td>\n",
       "    </tr>\n",
       "  </tbody>\n",
       "</table>\n",
       "<p>1000 rows × 7 columns</p>\n",
       "</div>"
      ],
      "text/plain": [
       "                  Full Name               Job Title  \\\n",
       "0                Dan  Snook         Project Manager   \n",
       "1         Frank  Zaborowski                Director   \n",
       "2          Vernal L. Crooms                Director   \n",
       "3              Rolf  Hoijer          Head of Office   \n",
       "4           Jaleesa  Miller            Case Manager   \n",
       "..                      ...                     ...   \n",
       "995           Paul F. Hicks           Band Director   \n",
       "996  Jose  Campi-portaluppi                Director   \n",
       "997           James  Howell      Executive Director   \n",
       "998          Robert  Albert  Food Service Manager I   \n",
       "999      Patrick  McCaffrey         Section Manager   \n",
       "\n",
       "                                  All Number and Email  \\\n",
       "0    (202) 758-2037 (202) 758-2037  (202) 620-2430 ...   \n",
       "1    (877) 885-5716 (703) 247-5840  f.zaborowski@us...   \n",
       "2                     (202) 459-6825  (202) 469-9994     \n",
       "3                     (202) 467-2600 (202) 534-9584      \n",
       "4    (202) 671-4200 (202) 727-3799 (202) 256-5209 j...   \n",
       "..                                                 ...   \n",
       "995                   (540) 422-7470 (540) 422-7450      \n",
       "996                                                      \n",
       "997   (202) 288-5224 (504) 620-0209  jhowell28@gmai...   \n",
       "998  (703) 791-7314 (703) 530-4992  albertrm@pwcs.edu    \n",
       "999  (865) 576-3161 (490) 304-9205 (400) 602-7532 p...   \n",
       "\n",
       "                        Organisation Name  \\\n",
       "0                                 iSTUDIO   \n",
       "1                            CyberPatriot   \n",
       "2     Eagle Academy Public Charter School   \n",
       "3                       Embassy of Sweden   \n",
       "4         DC Department of Human Services   \n",
       "..                                    ...   \n",
       "995                Marshall Middle School   \n",
       "996       Equimundo (Formerly Promundo-US   \n",
       "997       Bethlehem University Foundation   \n",
       "998  Prince William County Public Schools   \n",
       "999     Oak Ridge Associated Universities   \n",
       "\n",
       "                                               Address  \\\n",
       "0    1605 Connecticut Ave NW Ste 200 Washington, D....   \n",
       "1                    1501 Langston Blvd Arlington22209   \n",
       "2             3400 Wheeler Rd SE Washington, D.C.20032   \n",
       "3           2900 K St NW Ste 100 Washington, D.C.20007   \n",
       "4      920 A-Rhode Island Ave NE Washington, D.C.20018   \n",
       "..                                                 ...   \n",
       "995                      4048 Zulla Rd The Plains20198   \n",
       "996  1367 Connecticut Ave NW Ste 210 Washington, D....   \n",
       "997                              Washington, D.C.20017   \n",
       "998                      14800 Joplin Rd Manassas20112   \n",
       "999  1140 Connecticut Ave NW Ste 350 Washington, D....   \n",
       "\n",
       "                                             Website  \\\n",
       "0                                    www.istudio.com   \n",
       "1                             www.uscyberpatriot.org   \n",
       "2                            www.eagleacademypcs.org   \n",
       "3    www.swedenabroad.se/en/embassies/usa-washington   \n",
       "4                                         dhs.dc.gov   \n",
       "..                                               ...   \n",
       "995                                       not filled   \n",
       "996                                www.equimundo.org   \n",
       "997                                www.bethlehem.edu   \n",
       "998                            www.pwcsnutrition.com   \n",
       "999                                     www.orau.org   \n",
       "\n",
       "                                              LinkedIn  \n",
       "0    https://www.linkedin.com/in/dan-snook-aia-45a3...  \n",
       "1    https://www.linkedin.com/in/frank-zaborowski-5...  \n",
       "2                                           not filled  \n",
       "3                                           not filled  \n",
       "4                                           not filled  \n",
       "..                                                 ...  \n",
       "995    https://www.linkedin.com/in/paul-hicks-779a024b  \n",
       "996                                         not filled  \n",
       "997  https://www.linkedin.com/in/james-howell-fundr...  \n",
       "998                                         not filled  \n",
       "999  https://www.linkedin.com/in/patrick-mccaffrey-...  \n",
       "\n",
       "[1000 rows x 7 columns]"
      ]
     },
     "execution_count": 903,
     "metadata": {},
     "output_type": "execute_result"
    }
   ],
   "source": [
    "cd_df"
   ]
  },
  {
   "cell_type": "code",
   "execution_count": null,
   "id": "f8208523-8290-40e0-ad05-4ad96fd366b8",
   "metadata": {},
   "outputs": [],
   "source": []
  }
 ],
 "metadata": {
  "kernelspec": {
   "display_name": "Python 3 (ipykernel)",
   "language": "python",
   "name": "python3"
  },
  "language_info": {
   "codemirror_mode": {
    "name": "ipython",
    "version": 3
   },
   "file_extension": ".py",
   "mimetype": "text/x-python",
   "name": "python",
   "nbconvert_exporter": "python",
   "pygments_lexer": "ipython3",
   "version": "3.11.4"
  }
 },
 "nbformat": 4,
 "nbformat_minor": 5
}
