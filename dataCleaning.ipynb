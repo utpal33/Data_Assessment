{
 "cells": [
  {
   "cell_type": "code",
   "execution_count": 163,
   "id": "8ee75bbc-7c21-4cc4-b948-f2f35c87a3ac",
   "metadata": {},
   "outputs": [],
   "source": [
    "import pandas as pd;\n",
    "import numpy as np;"
   ]
  },
  {
   "cell_type": "code",
   "execution_count": 164,
   "id": "418a91de-3dff-4123-9d8e-6a0027004683",
   "metadata": {},
   "outputs": [],
   "source": [
    "df = pd.read_excel(\"Data Assignment.xlsx\")"
   ]
  },
  {
   "cell_type": "code",
   "execution_count": 165,
   "id": "0ddc6274-b861-4f74-9b2c-dea9768172bb",
   "metadata": {},
   "outputs": [
    {
     "data": {
      "text/html": [
       "<div>\n",
       "<style scoped>\n",
       "    .dataframe tbody tr th:only-of-type {\n",
       "        vertical-align: middle;\n",
       "    }\n",
       "\n",
       "    .dataframe tbody tr th {\n",
       "        vertical-align: top;\n",
       "    }\n",
       "\n",
       "    .dataframe thead th {\n",
       "        text-align: right;\n",
       "    }\n",
       "</style>\n",
       "<table border=\"1\" class=\"dataframe\">\n",
       "  <thead>\n",
       "    <tr style=\"text-align: right;\">\n",
       "      <th></th>\n",
       "      <th>Company Name</th>\n",
       "      <th>Website</th>\n",
       "      <th>Company HQ Phone</th>\n",
       "      <th>Last Name</th>\n",
       "      <th>First Name</th>\n",
       "      <th>Middle Name</th>\n",
       "      <th>Salutation</th>\n",
       "      <th>Job Title</th>\n",
       "      <th>Direct Phone Number</th>\n",
       "      <th>Mobile phone</th>\n",
       "      <th>Business Email</th>\n",
       "      <th>Supplemental Email</th>\n",
       "      <th>LinkedIn Contact Profile URL</th>\n",
       "      <th>Person Street</th>\n",
       "      <th>Person City</th>\n",
       "      <th>Person State</th>\n",
       "      <th>Person Zip Code</th>\n",
       "      <th>Country</th>\n",
       "    </tr>\n",
       "  </thead>\n",
       "  <tbody>\n",
       "    <tr>\n",
       "      <th>0</th>\n",
       "      <td>iSTUDIO</td>\n",
       "      <td>www.istudio.com</td>\n",
       "      <td>(202) 758-2037</td>\n",
       "      <td>Snook</td>\n",
       "      <td>Dan</td>\n",
       "      <td>NaN</td>\n",
       "      <td>NaN</td>\n",
       "      <td>Project Manager, Integrus</td>\n",
       "      <td>(202) 758-2037 ext. 903</td>\n",
       "      <td>(202) 620-2430</td>\n",
       "      <td>dsnook@istudioarchitects.com</td>\n",
       "      <td>NaN</td>\n",
       "      <td>https://www.linkedin.com/in/dan-snook-aia-45a3...</td>\n",
       "      <td>1605 Connecticut Ave NW Ste 200</td>\n",
       "      <td>Washington, D.C.</td>\n",
       "      <td>District of Columbia</td>\n",
       "      <td>20009</td>\n",
       "      <td>United States</td>\n",
       "    </tr>\n",
       "    <tr>\n",
       "      <th>1</th>\n",
       "      <td>CyberPatriot</td>\n",
       "      <td>www.uscyberpatriot.org</td>\n",
       "      <td>(877) 885-5716</td>\n",
       "      <td>Zaborowski</td>\n",
       "      <td>Frank</td>\n",
       "      <td>NaN</td>\n",
       "      <td>NaN</td>\n",
       "      <td>Director, Operations</td>\n",
       "      <td>(703) 247-5840</td>\n",
       "      <td>NaN</td>\n",
       "      <td>f.zaborowski@uscyberpatriot.org</td>\n",
       "      <td>NaN</td>\n",
       "      <td>https://www.linkedin.com/in/frank-zaborowski-5...</td>\n",
       "      <td>1501 Langston Blvd</td>\n",
       "      <td>Arlington</td>\n",
       "      <td>Virginia</td>\n",
       "      <td>22209</td>\n",
       "      <td>United States</td>\n",
       "    </tr>\n",
       "    <tr>\n",
       "      <th>2</th>\n",
       "      <td>Eagle Academy Public Charter School</td>\n",
       "      <td>www.eagleacademypcs.org</td>\n",
       "      <td>(202) 459-6825</td>\n",
       "      <td>Crooms</td>\n",
       "      <td>Vernal</td>\n",
       "      <td>L.</td>\n",
       "      <td>NaN</td>\n",
       "      <td>Director, Food Service</td>\n",
       "      <td>NaN</td>\n",
       "      <td>(202) 469-9994</td>\n",
       "      <td>NaN</td>\n",
       "      <td>NaN</td>\n",
       "      <td>NaN</td>\n",
       "      <td>3400 Wheeler Rd SE</td>\n",
       "      <td>Washington, D.C.</td>\n",
       "      <td>District of Columbia</td>\n",
       "      <td>20032</td>\n",
       "      <td>United States</td>\n",
       "    </tr>\n",
       "    <tr>\n",
       "      <th>3</th>\n",
       "      <td>Embassy of Sweden</td>\n",
       "      <td>www.swedenabroad.se/en/embassies/usa-washington</td>\n",
       "      <td>(202) 467-2600</td>\n",
       "      <td>Hoijer</td>\n",
       "      <td>Rolf</td>\n",
       "      <td>NaN</td>\n",
       "      <td>NaN</td>\n",
       "      <td>Head of Office, Office of Science and Innovation</td>\n",
       "      <td>(202) 534-9584</td>\n",
       "      <td>NaN</td>\n",
       "      <td>NaN</td>\n",
       "      <td>NaN</td>\n",
       "      <td>NaN</td>\n",
       "      <td>2900 K St NW Ste 100</td>\n",
       "      <td>Washington, D.C.</td>\n",
       "      <td>District of Columbia</td>\n",
       "      <td>20007</td>\n",
       "      <td>United States</td>\n",
       "    </tr>\n",
       "    <tr>\n",
       "      <th>4</th>\n",
       "      <td>DC Department of Human Services</td>\n",
       "      <td>dhs.dc.gov</td>\n",
       "      <td>(202) 671-4200</td>\n",
       "      <td>Miller</td>\n",
       "      <td>Jaleesa</td>\n",
       "      <td>NaN</td>\n",
       "      <td>NaN</td>\n",
       "      <td>Case Manager</td>\n",
       "      <td>(202) 727-3799</td>\n",
       "      <td>(202) 256-5209</td>\n",
       "      <td>jaleesa.miller@dc.gov</td>\n",
       "      <td>NaN</td>\n",
       "      <td>NaN</td>\n",
       "      <td>920 A-Rhode Island Ave NE</td>\n",
       "      <td>Washington, D.C.</td>\n",
       "      <td>District of Columbia</td>\n",
       "      <td>20018</td>\n",
       "      <td>United States</td>\n",
       "    </tr>\n",
       "  </tbody>\n",
       "</table>\n",
       "</div>"
      ],
      "text/plain": [
       "                          Company Name  \\\n",
       "0                              iSTUDIO   \n",
       "1                         CyberPatriot   \n",
       "2  Eagle Academy Public Charter School   \n",
       "3                    Embassy of Sweden   \n",
       "4      DC Department of Human Services   \n",
       "\n",
       "                                           Website Company HQ Phone  \\\n",
       "0                                  www.istudio.com   (202) 758-2037   \n",
       "1                           www.uscyberpatriot.org   (877) 885-5716   \n",
       "2                          www.eagleacademypcs.org   (202) 459-6825   \n",
       "3  www.swedenabroad.se/en/embassies/usa-washington   (202) 467-2600   \n",
       "4                                       dhs.dc.gov   (202) 671-4200   \n",
       "\n",
       "    Last Name First Name Middle Name Salutation  \\\n",
       "0       Snook        Dan         NaN        NaN   \n",
       "1  Zaborowski      Frank         NaN        NaN   \n",
       "2      Crooms     Vernal          L.        NaN   \n",
       "3      Hoijer       Rolf         NaN        NaN   \n",
       "4      Miller    Jaleesa         NaN        NaN   \n",
       "\n",
       "                                          Job Title      Direct Phone Number  \\\n",
       "0                         Project Manager, Integrus  (202) 758-2037 ext. 903   \n",
       "1                              Director, Operations           (703) 247-5840   \n",
       "2                            Director, Food Service                      NaN   \n",
       "3  Head of Office, Office of Science and Innovation           (202) 534-9584   \n",
       "4                                      Case Manager           (202) 727-3799   \n",
       "\n",
       "     Mobile phone                   Business Email Supplemental Email  \\\n",
       "0  (202) 620-2430     dsnook@istudioarchitects.com                NaN   \n",
       "1             NaN  f.zaborowski@uscyberpatriot.org                NaN   \n",
       "2  (202) 469-9994                              NaN                NaN   \n",
       "3             NaN                              NaN                NaN   \n",
       "4  (202) 256-5209            jaleesa.miller@dc.gov                NaN   \n",
       "\n",
       "                        LinkedIn Contact Profile URL  \\\n",
       "0  https://www.linkedin.com/in/dan-snook-aia-45a3...   \n",
       "1  https://www.linkedin.com/in/frank-zaborowski-5...   \n",
       "2                                                NaN   \n",
       "3                                                NaN   \n",
       "4                                                NaN   \n",
       "\n",
       "                     Person Street       Person City          Person State  \\\n",
       "0  1605 Connecticut Ave NW Ste 200  Washington, D.C.  District of Columbia   \n",
       "1               1501 Langston Blvd         Arlington              Virginia   \n",
       "2               3400 Wheeler Rd SE  Washington, D.C.  District of Columbia   \n",
       "3             2900 K St NW Ste 100  Washington, D.C.  District of Columbia   \n",
       "4        920 A-Rhode Island Ave NE  Washington, D.C.  District of Columbia   \n",
       "\n",
       "  Person Zip Code        Country  \n",
       "0           20009  United States  \n",
       "1           22209  United States  \n",
       "2           20032  United States  \n",
       "3           20007  United States  \n",
       "4           20018  United States  "
      ]
     },
     "execution_count": 165,
     "metadata": {},
     "output_type": "execute_result"
    }
   ],
   "source": [
    "df.head()"
   ]
  },
  {
   "cell_type": "code",
   "execution_count": 166,
   "id": "b9b8d765-f14f-41e3-9bdd-e8aab3fa1526",
   "metadata": {},
   "outputs": [
    {
     "data": {
      "text/plain": [
       "(1004, 18)"
      ]
     },
     "execution_count": 166,
     "metadata": {},
     "output_type": "execute_result"
    }
   ],
   "source": [
    "df.shape"
   ]
  },
  {
   "cell_type": "code",
   "execution_count": 167,
   "id": "90ad2ddc-c7ea-468d-b1e1-9f9639cd7de7",
   "metadata": {},
   "outputs": [
    {
     "data": {
      "text/html": [
       "<div>\n",
       "<style scoped>\n",
       "    .dataframe tbody tr th:only-of-type {\n",
       "        vertical-align: middle;\n",
       "    }\n",
       "\n",
       "    .dataframe tbody tr th {\n",
       "        vertical-align: top;\n",
       "    }\n",
       "\n",
       "    .dataframe thead th {\n",
       "        text-align: right;\n",
       "    }\n",
       "</style>\n",
       "<table border=\"1\" class=\"dataframe\">\n",
       "  <thead>\n",
       "    <tr style=\"text-align: right;\">\n",
       "      <th></th>\n",
       "      <th>Company Name</th>\n",
       "      <th>Website</th>\n",
       "      <th>Company HQ Phone</th>\n",
       "      <th>Last Name</th>\n",
       "      <th>First Name</th>\n",
       "      <th>Middle Name</th>\n",
       "      <th>Salutation</th>\n",
       "      <th>Job Title</th>\n",
       "      <th>Direct Phone Number</th>\n",
       "      <th>Mobile phone</th>\n",
       "      <th>Business Email</th>\n",
       "      <th>Supplemental Email</th>\n",
       "      <th>LinkedIn Contact Profile URL</th>\n",
       "      <th>Person Street</th>\n",
       "      <th>Person City</th>\n",
       "      <th>Person State</th>\n",
       "      <th>Person Zip Code</th>\n",
       "      <th>Country</th>\n",
       "    </tr>\n",
       "  </thead>\n",
       "  <tbody>\n",
       "    <tr>\n",
       "      <th>count</th>\n",
       "      <td>1003</td>\n",
       "      <td>917</td>\n",
       "      <td>786</td>\n",
       "      <td>1003</td>\n",
       "      <td>1003</td>\n",
       "      <td>308</td>\n",
       "      <td>220</td>\n",
       "      <td>1003</td>\n",
       "      <td>521</td>\n",
       "      <td>735</td>\n",
       "      <td>752</td>\n",
       "      <td>495</td>\n",
       "      <td>661</td>\n",
       "      <td>946</td>\n",
       "      <td>1003</td>\n",
       "      <td>1003</td>\n",
       "      <td>1003</td>\n",
       "      <td>1003</td>\n",
       "    </tr>\n",
       "    <tr>\n",
       "      <th>unique</th>\n",
       "      <td>996</td>\n",
       "      <td>914</td>\n",
       "      <td>779</td>\n",
       "      <td>888</td>\n",
       "      <td>629</td>\n",
       "      <td>95</td>\n",
       "      <td>12</td>\n",
       "      <td>649</td>\n",
       "      <td>520</td>\n",
       "      <td>731</td>\n",
       "      <td>750</td>\n",
       "      <td>493</td>\n",
       "      <td>659</td>\n",
       "      <td>912</td>\n",
       "      <td>82</td>\n",
       "      <td>3</td>\n",
       "      <td>247</td>\n",
       "      <td>1</td>\n",
       "    </tr>\n",
       "    <tr>\n",
       "      <th>top</th>\n",
       "      <td>Kbf</td>\n",
       "      <td>www.tworiverspcs.org</td>\n",
       "      <td>(301) 762-0700</td>\n",
       "      <td>Smith</td>\n",
       "      <td>Robert</td>\n",
       "      <td>M.</td>\n",
       "      <td>Ms.</td>\n",
       "      <td>Executive Director</td>\n",
       "      <td>(495) 478-4298</td>\n",
       "      <td>(300) 260-7460</td>\n",
       "      <td>cgarlock@grassrootscannabis.com</td>\n",
       "      <td>mary.gornick@gmail.com</td>\n",
       "      <td>https://www.linkedin.com/in/reedmorrison</td>\n",
       "      <td>1849 C St NW</td>\n",
       "      <td>Washington, D.C.</td>\n",
       "      <td>District of Columbia</td>\n",
       "      <td>20001</td>\n",
       "      <td>United States</td>\n",
       "    </tr>\n",
       "    <tr>\n",
       "      <th>freq</th>\n",
       "      <td>2</td>\n",
       "      <td>2</td>\n",
       "      <td>2</td>\n",
       "      <td>13</td>\n",
       "      <td>15</td>\n",
       "      <td>35</td>\n",
       "      <td>78</td>\n",
       "      <td>72</td>\n",
       "      <td>2</td>\n",
       "      <td>2</td>\n",
       "      <td>2</td>\n",
       "      <td>2</td>\n",
       "      <td>2</td>\n",
       "      <td>3</td>\n",
       "      <td>498</td>\n",
       "      <td>499</td>\n",
       "      <td>60</td>\n",
       "      <td>1003</td>\n",
       "    </tr>\n",
       "  </tbody>\n",
       "</table>\n",
       "</div>"
      ],
      "text/plain": [
       "       Company Name               Website Company HQ Phone Last Name  \\\n",
       "count          1003                   917              786      1003   \n",
       "unique          996                   914              779       888   \n",
       "top             Kbf  www.tworiverspcs.org   (301) 762-0700     Smith   \n",
       "freq              2                     2                2        13   \n",
       "\n",
       "       First Name Middle Name Salutation           Job Title  \\\n",
       "count        1003         308        220                1003   \n",
       "unique        629          95         12                 649   \n",
       "top        Robert          M.        Ms.  Executive Director   \n",
       "freq           15          35         78                  72   \n",
       "\n",
       "       Direct Phone Number    Mobile phone                   Business Email  \\\n",
       "count                  521             735                              752   \n",
       "unique                 520             731                              750   \n",
       "top         (495) 478-4298  (300) 260-7460  cgarlock@grassrootscannabis.com   \n",
       "freq                     2               2                                2   \n",
       "\n",
       "            Supplemental Email              LinkedIn Contact Profile URL  \\\n",
       "count                      495                                       661   \n",
       "unique                     493                                       659   \n",
       "top     mary.gornick@gmail.com  https://www.linkedin.com/in/reedmorrison   \n",
       "freq                         2                                         2   \n",
       "\n",
       "       Person Street       Person City          Person State  Person Zip Code  \\\n",
       "count            946              1003                  1003             1003   \n",
       "unique           912                82                     3              247   \n",
       "top     1849 C St NW  Washington, D.C.  District of Columbia            20001   \n",
       "freq               3               498                   499               60   \n",
       "\n",
       "              Country  \n",
       "count            1003  \n",
       "unique              1  \n",
       "top     United States  \n",
       "freq             1003  "
      ]
     },
     "execution_count": 167,
     "metadata": {},
     "output_type": "execute_result"
    }
   ],
   "source": [
    "df.describe()"
   ]
  },
  {
   "cell_type": "code",
   "execution_count": 168,
   "id": "e8181489-95dc-4850-9b9e-f4eabf57cc79",
   "metadata": {},
   "outputs": [
    {
     "data": {
      "text/plain": [
       "Company Name                      1\n",
       "Website                          87\n",
       "Company HQ Phone                218\n",
       "Last Name                         1\n",
       "First Name                        1\n",
       "Middle Name                     696\n",
       "Salutation                      784\n",
       "Job Title                         1\n",
       "Direct Phone Number             483\n",
       "Mobile phone                    269\n",
       "Business Email                  252\n",
       "Supplemental Email              509\n",
       "LinkedIn Contact Profile URL    343\n",
       "Person Street                    58\n",
       "Person City                       1\n",
       "Person State                      1\n",
       "Person Zip Code                   1\n",
       "Country                           1\n",
       "dtype: int64"
      ]
     },
     "execution_count": 168,
     "metadata": {},
     "output_type": "execute_result"
    }
   ],
   "source": [
    "df.isnull().sum()"
   ]
  },
  {
   "cell_type": "code",
   "execution_count": 169,
   "id": "d35cb0d4-e3a5-482d-86c6-3b2f2d977cd1",
   "metadata": {},
   "outputs": [
    {
     "data": {
      "text/plain": [
       "1"
      ]
     },
     "execution_count": 169,
     "metadata": {},
     "output_type": "execute_result"
    }
   ],
   "source": [
    "df.isna().all(axis=1).sum()"
   ]
  },
  {
   "cell_type": "code",
   "execution_count": 170,
   "id": "f6c6e077-6fc2-4b72-a1e3-9fc59b6a88a8",
   "metadata": {},
   "outputs": [
    {
     "data": {
      "text/plain": [
       "0"
      ]
     },
     "execution_count": 170,
     "metadata": {},
     "output_type": "execute_result"
    }
   ],
   "source": [
    "df.isna().all(axis=0).sum()"
   ]
  },
  {
   "cell_type": "code",
   "execution_count": 171,
   "id": "a4a45ee5-276d-4b47-a908-e6920e83036f",
   "metadata": {},
   "outputs": [],
   "source": [
    "df.dropna(how=\"all\", axis=0, inplace=True)"
   ]
  },
  {
   "cell_type": "code",
   "execution_count": 172,
   "id": "69080e04-db27-470e-822d-bb0f2f6b722c",
   "metadata": {},
   "outputs": [
    {
     "data": {
      "text/plain": [
       "0"
      ]
     },
     "execution_count": 172,
     "metadata": {},
     "output_type": "execute_result"
    }
   ],
   "source": [
    "df.isna().all(axis=1).sum()"
   ]
  },
  {
   "cell_type": "markdown",
   "id": "8a861299-ad7b-4826-99c9-139a0d2023bf",
   "metadata": {},
   "source": [
    " # checking null values in percentage for better understanding of data"
   ]
  },
  {
   "cell_type": "code",
   "execution_count": 173,
   "id": "5462d971-eb53-461b-a66b-fa7670c9048d",
   "metadata": {},
   "outputs": [],
   "source": [
    "# ((df.isnull().sum()/df.shape[0])*100).round(2)"
   ]
  },
  {
   "cell_type": "markdown",
   "id": "e92cc8f6-935e-45f6-a20f-086082788e05",
   "metadata": {},
   "source": [
    "# Full Name(First Name + Middle Name + Last Name), Job Title, Number, Email, Organization Name, Address (Person Street + Person City + Person State\t+ Person Zip Code + Country), Website, LinkedIn"
   ]
  },
  {
   "cell_type": "code",
   "execution_count": 174,
   "id": "bb36c7d5-6aa7-494c-9267-2b9ef228525f",
   "metadata": {},
   "outputs": [],
   "source": [
    "df['Full Name']= df['First Name'] + \" \" + df['Middle Name'].fillna(\"\") + \" \" + df['Last Name'] "
   ]
  },
  {
   "cell_type": "code",
   "execution_count": 175,
   "id": "89357926-ddf3-4edd-9353-c6f87f2bf816",
   "metadata": {},
   "outputs": [],
   "source": [
    "df['Full Name']= df[\"Full Name\"].str.replace('  ',' ')"
   ]
  },
  {
   "cell_type": "code",
   "execution_count": 176,
   "id": "11a99c07-ea6a-4624-80a1-f81fed469173",
   "metadata": {
    "scrolled": true
   },
   "outputs": [
    {
     "data": {
      "text/plain": [
       "0               Dan Snook\n",
       "1        Frank Zaborowski\n",
       "2        Vernal L. Crooms\n",
       "3             Rolf Hoijer\n",
       "4          Jaleesa Miller\n",
       "              ...        \n",
       "999          James Howell\n",
       "1000        Robert Albert\n",
       "1001    Patrick McCaffrey\n",
       "1002       William Archer\n",
       "1003       Raleigh Griggs\n",
       "Name: Full Name, Length: 1003, dtype: object"
      ]
     },
     "execution_count": 176,
     "metadata": {},
     "output_type": "execute_result"
    }
   ],
   "source": [
    "df['Full Name']"
   ]
  },
  {
   "cell_type": "code",
   "execution_count": 177,
   "id": "3abd81ee-064a-4e58-96a8-68e437210179",
   "metadata": {},
   "outputs": [
    {
     "data": {
      "text/plain": [
       "Index(['Company Name', 'Website', 'Company HQ Phone', 'Last Name',\n",
       "       'First Name', 'Middle Name', 'Salutation', 'Job Title',\n",
       "       'Direct Phone Number', 'Mobile phone', 'Business Email',\n",
       "       'Supplemental Email', 'LinkedIn Contact Profile URL', 'Person Street',\n",
       "       'Person City', 'Person State', 'Person Zip Code', 'Country',\n",
       "       'Full Name'],\n",
       "      dtype='object')"
      ]
     },
     "execution_count": 177,
     "metadata": {},
     "output_type": "execute_result"
    }
   ],
   "source": [
    "df.columns"
   ]
  },
  {
   "cell_type": "code",
   "execution_count": 178,
   "id": "e517aa9b-f8b8-4d7f-909e-bee0b301b70f",
   "metadata": {},
   "outputs": [],
   "source": [
    "# New_df = df[df['Full Name'], df['job Title'], df['LinkedIn Contact Profile URL'], df['Website'],]"
   ]
  },
  {
   "cell_type": "code",
   "execution_count": 179,
   "id": "7c6edef8-60d2-4ad1-93f4-a3513d59dc60",
   "metadata": {},
   "outputs": [
    {
     "data": {
      "text/plain": [
       "57"
      ]
     },
     "execution_count": 179,
     "metadata": {},
     "output_type": "execute_result"
    }
   ],
   "source": [
    "df['Person Street'].isnull().sum()"
   ]
  },
  {
   "cell_type": "code",
   "execution_count": 180,
   "id": "a6b3e76d-f7b2-4eb8-bf9f-4bd8f2c1a8ab",
   "metadata": {},
   "outputs": [
    {
     "ename": "ValueError",
     "evalue": "Must specify a fill 'value' or 'method'.",
     "output_type": "error",
     "traceback": [
      "\u001b[0;31m---------------------------------------------------------------------------\u001b[0m",
      "\u001b[0;31mValueError\u001b[0m                                Traceback (most recent call last)",
      "Cell \u001b[0;32mIn[180], line 1\u001b[0m\n\u001b[0;32m----> 1\u001b[0m \u001b[43mdf\u001b[49m\u001b[43m[\u001b[49m\u001b[38;5;124;43m'\u001b[39;49m\u001b[38;5;124;43mPerson Street\u001b[39;49m\u001b[38;5;124;43m'\u001b[39;49m\u001b[43m]\u001b[49m\u001b[38;5;241;43m.\u001b[39;49m\u001b[43mfillna\u001b[49m\u001b[43m(\u001b[49m\u001b[43m)\u001b[49m \u001b[38;5;241m+\u001b[39m \u001b[38;5;124m\"\u001b[39m\u001b[38;5;124m,\u001b[39m\u001b[38;5;124m\"\u001b[39m \u001b[38;5;241m+\u001b[39m df[\u001b[38;5;124m'\u001b[39m\u001b[38;5;124mPerson City\u001b[39m\u001b[38;5;124m'\u001b[39m] \u001b[38;5;241m+\u001b[39m \u001b[38;5;124m\"\u001b[39m\u001b[38;5;124m,\u001b[39m\u001b[38;5;124m\"\u001b[39m \u001b[38;5;241m+\u001b[39m \u001b[38;5;28mstr\u001b[39m(df[\u001b[38;5;124m'\u001b[39m\u001b[38;5;124mPerson Zip Code\u001b[39m\u001b[38;5;124m'\u001b[39m]) \u001b[38;5;241m+\u001b[39m df[\u001b[38;5;124m'\u001b[39m\u001b[38;5;124mCountry\u001b[39m\u001b[38;5;124m'\u001b[39m]\n",
      "File \u001b[0;32m/Library/Frameworks/Python.framework/Versions/3.11/lib/python3.11/site-packages/pandas/core/series.py:5145\u001b[0m, in \u001b[0;36mSeries.fillna\u001b[0;34m(self, value, method, axis, inplace, limit, downcast)\u001b[0m\n\u001b[1;32m   5134\u001b[0m \u001b[38;5;129m@doc\u001b[39m(NDFrame\u001b[38;5;241m.\u001b[39mfillna, \u001b[38;5;241m*\u001b[39m\u001b[38;5;241m*\u001b[39m_shared_doc_kwargs)\n\u001b[1;32m   5135\u001b[0m \u001b[38;5;28;01mdef\u001b[39;00m \u001b[38;5;21mfillna\u001b[39m(\n\u001b[1;32m   5136\u001b[0m     \u001b[38;5;28mself\u001b[39m,\n\u001b[0;32m   (...)\u001b[0m\n\u001b[1;32m   5143\u001b[0m     downcast: \u001b[38;5;28mdict\u001b[39m \u001b[38;5;241m|\u001b[39m \u001b[38;5;28;01mNone\u001b[39;00m \u001b[38;5;241m=\u001b[39m \u001b[38;5;28;01mNone\u001b[39;00m,\n\u001b[1;32m   5144\u001b[0m ) \u001b[38;5;241m-\u001b[39m\u001b[38;5;241m>\u001b[39m Series \u001b[38;5;241m|\u001b[39m \u001b[38;5;28;01mNone\u001b[39;00m:\n\u001b[0;32m-> 5145\u001b[0m     \u001b[38;5;28;01mreturn\u001b[39;00m \u001b[38;5;28;43msuper\u001b[39;49m\u001b[43m(\u001b[49m\u001b[43m)\u001b[49m\u001b[38;5;241;43m.\u001b[39;49m\u001b[43mfillna\u001b[49m\u001b[43m(\u001b[49m\n\u001b[1;32m   5146\u001b[0m \u001b[43m        \u001b[49m\u001b[43mvalue\u001b[49m\u001b[38;5;241;43m=\u001b[39;49m\u001b[43mvalue\u001b[49m\u001b[43m,\u001b[49m\n\u001b[1;32m   5147\u001b[0m \u001b[43m        \u001b[49m\u001b[43mmethod\u001b[49m\u001b[38;5;241;43m=\u001b[39;49m\u001b[43mmethod\u001b[49m\u001b[43m,\u001b[49m\n\u001b[1;32m   5148\u001b[0m \u001b[43m        \u001b[49m\u001b[43maxis\u001b[49m\u001b[38;5;241;43m=\u001b[39;49m\u001b[43maxis\u001b[49m\u001b[43m,\u001b[49m\n\u001b[1;32m   5149\u001b[0m \u001b[43m        \u001b[49m\u001b[43minplace\u001b[49m\u001b[38;5;241;43m=\u001b[39;49m\u001b[43minplace\u001b[49m\u001b[43m,\u001b[49m\n\u001b[1;32m   5150\u001b[0m \u001b[43m        \u001b[49m\u001b[43mlimit\u001b[49m\u001b[38;5;241;43m=\u001b[39;49m\u001b[43mlimit\u001b[49m\u001b[43m,\u001b[49m\n\u001b[1;32m   5151\u001b[0m \u001b[43m        \u001b[49m\u001b[43mdowncast\u001b[49m\u001b[38;5;241;43m=\u001b[39;49m\u001b[43mdowncast\u001b[49m\u001b[43m,\u001b[49m\n\u001b[1;32m   5152\u001b[0m \u001b[43m    \u001b[49m\u001b[43m)\u001b[49m\n",
      "File \u001b[0;32m/Library/Frameworks/Python.framework/Versions/3.11/lib/python3.11/site-packages/pandas/core/generic.py:6859\u001b[0m, in \u001b[0;36mNDFrame.fillna\u001b[0;34m(self, value, method, axis, inplace, limit, downcast)\u001b[0m\n\u001b[1;32m   6746\u001b[0m \u001b[38;5;250m\u001b[39m\u001b[38;5;124;03m\"\"\"\u001b[39;00m\n\u001b[1;32m   6747\u001b[0m \u001b[38;5;124;03mFill NA/NaN values using the specified method.\u001b[39;00m\n\u001b[1;32m   6748\u001b[0m \n\u001b[0;32m   (...)\u001b[0m\n\u001b[1;32m   6856\u001b[0m \u001b[38;5;124;03mNote that column D is not affected since it is not present in df2.\u001b[39;00m\n\u001b[1;32m   6857\u001b[0m \u001b[38;5;124;03m\"\"\"\u001b[39;00m\n\u001b[1;32m   6858\u001b[0m inplace \u001b[38;5;241m=\u001b[39m validate_bool_kwarg(inplace, \u001b[38;5;124m\"\u001b[39m\u001b[38;5;124minplace\u001b[39m\u001b[38;5;124m\"\u001b[39m)\n\u001b[0;32m-> 6859\u001b[0m value, method \u001b[38;5;241m=\u001b[39m \u001b[43mvalidate_fillna_kwargs\u001b[49m\u001b[43m(\u001b[49m\u001b[43mvalue\u001b[49m\u001b[43m,\u001b[49m\u001b[43m \u001b[49m\u001b[43mmethod\u001b[49m\u001b[43m)\u001b[49m\n\u001b[1;32m   6861\u001b[0m \u001b[38;5;66;03m# set the default here, so functions examining the signaure\u001b[39;00m\n\u001b[1;32m   6862\u001b[0m \u001b[38;5;66;03m# can detect if something was set (e.g. in groupby) (GH9221)\u001b[39;00m\n\u001b[1;32m   6863\u001b[0m \u001b[38;5;28;01mif\u001b[39;00m axis \u001b[38;5;129;01mis\u001b[39;00m \u001b[38;5;28;01mNone\u001b[39;00m:\n",
      "File \u001b[0;32m/Library/Frameworks/Python.framework/Versions/3.11/lib/python3.11/site-packages/pandas/util/_validators.py:288\u001b[0m, in \u001b[0;36mvalidate_fillna_kwargs\u001b[0;34m(value, method, validate_scalar_dict_value)\u001b[0m\n\u001b[1;32m    285\u001b[0m \u001b[38;5;28;01mfrom\u001b[39;00m \u001b[38;5;21;01mpandas\u001b[39;00m\u001b[38;5;21;01m.\u001b[39;00m\u001b[38;5;21;01mcore\u001b[39;00m\u001b[38;5;21;01m.\u001b[39;00m\u001b[38;5;21;01mmissing\u001b[39;00m \u001b[38;5;28;01mimport\u001b[39;00m clean_fill_method\n\u001b[1;32m    287\u001b[0m \u001b[38;5;28;01mif\u001b[39;00m value \u001b[38;5;129;01mis\u001b[39;00m \u001b[38;5;28;01mNone\u001b[39;00m \u001b[38;5;129;01mand\u001b[39;00m method \u001b[38;5;129;01mis\u001b[39;00m \u001b[38;5;28;01mNone\u001b[39;00m:\n\u001b[0;32m--> 288\u001b[0m     \u001b[38;5;28;01mraise\u001b[39;00m \u001b[38;5;167;01mValueError\u001b[39;00m(\u001b[38;5;124m\"\u001b[39m\u001b[38;5;124mMust specify a fill \u001b[39m\u001b[38;5;124m'\u001b[39m\u001b[38;5;124mvalue\u001b[39m\u001b[38;5;124m'\u001b[39m\u001b[38;5;124m or \u001b[39m\u001b[38;5;124m'\u001b[39m\u001b[38;5;124mmethod\u001b[39m\u001b[38;5;124m'\u001b[39m\u001b[38;5;124m.\u001b[39m\u001b[38;5;124m\"\u001b[39m)\n\u001b[1;32m    289\u001b[0m \u001b[38;5;28;01mif\u001b[39;00m value \u001b[38;5;129;01mis\u001b[39;00m \u001b[38;5;28;01mNone\u001b[39;00m \u001b[38;5;129;01mand\u001b[39;00m method \u001b[38;5;129;01mis\u001b[39;00m \u001b[38;5;129;01mnot\u001b[39;00m \u001b[38;5;28;01mNone\u001b[39;00m:\n\u001b[1;32m    290\u001b[0m     method \u001b[38;5;241m=\u001b[39m clean_fill_method(method)\n",
      "\u001b[0;31mValueError\u001b[0m: Must specify a fill 'value' or 'method'."
     ]
    }
   ],
   "source": [
    "# df['Person Street'].fillna() + \",\" + df['Person City'] + \",\" + str(df['Person Zip Code']) + df['Country']"
   ]
  },
  {
   "cell_type": "code",
   "execution_count": null,
   "id": "ffcfe6ab-04de-4269-9a69-6c733cf84d08",
   "metadata": {},
   "outputs": [],
   "source": [
    "df['Person Zip Code'] = df['Person Zip Code'].astype(str).map(lambda x: x.split('-')[0] if '-' in x else x )"
   ]
  },
  {
   "cell_type": "code",
   "execution_count": null,
   "id": "07c6b1c7-5ddb-4a66-a0a8-ad89b6feac34",
   "metadata": {},
   "outputs": [],
   "source": [
    "df['Person Zip Code'].map(lambda x :'-' in x).sum()"
   ]
  },
  {
   "cell_type": "markdown",
   "id": "52105754-5e09-4fef-b089-9c6c6cee8b99",
   "metadata": {},
   "source": [
    "company hq phone"
   ]
  },
  {
   "cell_type": "code",
   "execution_count": 192,
   "id": "c3a3b39d-992f-49c4-89d5-af1727931a1f",
   "metadata": {},
   "outputs": [
    {
     "data": {
      "text/plain": [
       "31"
      ]
     },
     "execution_count": 192,
     "metadata": {},
     "output_type": "execute_result"
    }
   ],
   "source": [
    "df['Company HQ Phone'].astype(str).apply(lambda x: '+' in x).sum()"
   ]
  },
  {
   "cell_type": "code",
   "execution_count": 194,
   "id": "426e72be-88bb-40cc-b7ba-68dbbb1c5763",
   "metadata": {},
   "outputs": [
    {
     "data": {
      "text/plain": [
       "217"
      ]
     },
     "execution_count": 194,
     "metadata": {},
     "output_type": "execute_result"
    }
   ],
   "source": [
    "df['Company HQ Phone'].isnull().sum()"
   ]
  },
  {
   "cell_type": "raw",
   "id": "db3388ea-b273-495b-8f0f-8470010c872e",
   "metadata": {},
   "source": [
    " Direct phone number "
   ]
  },
  {
   "cell_type": "code",
   "execution_count": 195,
   "id": "0d97c878-e31e-434b-a104-571ec63f597e",
   "metadata": {},
   "outputs": [
    {
     "data": {
      "text/plain": [
       "4"
      ]
     },
     "execution_count": 195,
     "metadata": {},
     "output_type": "execute_result"
    }
   ],
   "source": [
    "df['Direct Phone Number'].astype(str).apply(lambda x: '+' in x).sum()"
   ]
  },
  {
   "cell_type": "code",
   "execution_count": 197,
   "id": "d487a378-a771-42c5-82d3-a6e8f873bfdc",
   "metadata": {},
   "outputs": [
    {
     "data": {
      "text/plain": [
       "482"
      ]
     },
     "execution_count": 197,
     "metadata": {},
     "output_type": "execute_result"
    }
   ],
   "source": [
    "df['Direct Phone Number'].isnull().sum()"
   ]
  },
  {
   "cell_type": "raw",
   "id": "56e5fd7d-3fb0-4f6d-9a44-ef374e5e876c",
   "metadata": {},
   "source": [
    "Mobile Phone"
   ]
  },
  {
   "cell_type": "code",
   "execution_count": 199,
   "id": "6e5273a6-ddbf-4b89-9b36-21a0e343e2cd",
   "metadata": {},
   "outputs": [
    {
     "data": {
      "text/plain": [
       "268"
      ]
     },
     "execution_count": 199,
     "metadata": {},
     "output_type": "execute_result"
    }
   ],
   "source": [
    "df['Mobile phone'].isnull().sum()"
   ]
  },
  {
   "cell_type": "code",
   "execution_count": 200,
   "id": "5a9aa213-8370-420d-a904-7d8a321e260b",
   "metadata": {},
   "outputs": [
    {
     "data": {
      "text/plain": [
       "24"
      ]
     },
     "execution_count": 200,
     "metadata": {},
     "output_type": "execute_result"
    }
   ],
   "source": [
    "df['Mobile phone'].astype(str).apply(lambda x: '+' in x).sum()"
   ]
  },
  {
   "cell_type": "code",
   "execution_count": 201,
   "id": "bb9febc9-9e4a-4d94-bf64-9bafcf472e81",
   "metadata": {},
   "outputs": [],
   "source": [
    "phone_df = df[['Company HQ Phone', 'Direct Phone Number', 'Mobile phone']]"
   ]
  },
  {
   "cell_type": "code",
   "execution_count": 206,
   "id": "3367fd7a-3c1b-402a-8fd4-ff29c0c12584",
   "metadata": {},
   "outputs": [
    {
     "data": {
      "text/html": [
       "<div>\n",
       "<style scoped>\n",
       "    .dataframe tbody tr th:only-of-type {\n",
       "        vertical-align: middle;\n",
       "    }\n",
       "\n",
       "    .dataframe tbody tr th {\n",
       "        vertical-align: top;\n",
       "    }\n",
       "\n",
       "    .dataframe thead th {\n",
       "        text-align: right;\n",
       "    }\n",
       "</style>\n",
       "<table border=\"1\" class=\"dataframe\">\n",
       "  <thead>\n",
       "    <tr style=\"text-align: right;\">\n",
       "      <th></th>\n",
       "      <th>Company HQ Phone</th>\n",
       "      <th>Direct Phone Number</th>\n",
       "      <th>Mobile phone</th>\n",
       "    </tr>\n",
       "  </thead>\n",
       "  <tbody>\n",
       "    <tr>\n",
       "      <th>392</th>\n",
       "      <td>(866) 439-2837</td>\n",
       "      <td>NaN</td>\n",
       "      <td>(204) 440-0464</td>\n",
       "    </tr>\n",
       "    <tr>\n",
       "      <th>235</th>\n",
       "      <td>NaN</td>\n",
       "      <td>(202) 447-2340</td>\n",
       "      <td>NaN</td>\n",
       "    </tr>\n",
       "    <tr>\n",
       "      <th>86</th>\n",
       "      <td>(203) 795-6075</td>\n",
       "      <td>(309) 740-7807 ext. 938</td>\n",
       "      <td>(240) 429-9350</td>\n",
       "    </tr>\n",
       "    <tr>\n",
       "      <th>472</th>\n",
       "      <td>NaN</td>\n",
       "      <td>NaN</td>\n",
       "      <td>(605) 756-2209</td>\n",
       "    </tr>\n",
       "    <tr>\n",
       "      <th>486</th>\n",
       "      <td>(800) 336-8949</td>\n",
       "      <td>NaN</td>\n",
       "      <td>(443) 522-2720</td>\n",
       "    </tr>\n",
       "    <tr>\n",
       "      <th>438</th>\n",
       "      <td>(888) 232-7733</td>\n",
       "      <td>(703) 244-9429</td>\n",
       "      <td>NaN</td>\n",
       "    </tr>\n",
       "    <tr>\n",
       "      <th>177</th>\n",
       "      <td>(978) 323-4141</td>\n",
       "      <td>NaN</td>\n",
       "      <td>(443) 922-0260</td>\n",
       "    </tr>\n",
       "    <tr>\n",
       "      <th>834</th>\n",
       "      <td>NaN</td>\n",
       "      <td>NaN</td>\n",
       "      <td>(202) 694-5423</td>\n",
       "    </tr>\n",
       "    <tr>\n",
       "      <th>316</th>\n",
       "      <td>(571) 748-3400</td>\n",
       "      <td>NaN</td>\n",
       "      <td>(703) 632-0096</td>\n",
       "    </tr>\n",
       "    <tr>\n",
       "      <th>506</th>\n",
       "      <td>(202) 362-0700</td>\n",
       "      <td>(202) 355-9547</td>\n",
       "      <td>(305) 720-9703</td>\n",
       "    </tr>\n",
       "  </tbody>\n",
       "</table>\n",
       "</div>"
      ],
      "text/plain": [
       "    Company HQ Phone      Direct Phone Number    Mobile phone\n",
       "392   (866) 439-2837                      NaN  (204) 440-0464\n",
       "235              NaN           (202) 447-2340             NaN\n",
       "86    (203) 795-6075  (309) 740-7807 ext. 938  (240) 429-9350\n",
       "472              NaN                      NaN  (605) 756-2209\n",
       "486   (800) 336-8949                      NaN  (443) 522-2720\n",
       "438   (888) 232-7733           (703) 244-9429             NaN\n",
       "177   (978) 323-4141                      NaN  (443) 922-0260\n",
       "834              NaN                      NaN  (202) 694-5423\n",
       "316   (571) 748-3400                      NaN  (703) 632-0096\n",
       "506   (202) 362-0700           (202) 355-9547  (305) 720-9703"
      ]
     },
     "execution_count": 206,
     "metadata": {},
     "output_type": "execute_result"
    }
   ],
   "source": [
    "phone_df.sample(10)"
   ]
  },
  {
   "cell_type": "code",
   "execution_count": 210,
   "id": "cc74ad7c-6a98-4e0b-97dc-36873c72847f",
   "metadata": {},
   "outputs": [
    {
     "name": "stderr",
     "output_type": "stream",
     "text": [
      "/var/folders/s8/1hl12tjx0b71pdccf5xwchch0000gn/T/ipykernel_50903/1446064020.py:1: SettingWithCopyWarning: \n",
      "A value is trying to be set on a copy of a slice from a DataFrame\n",
      "\n",
      "See the caveats in the documentation: https://pandas.pydata.org/pandas-docs/stable/user_guide/indexing.html#returning-a-view-versus-a-copy\n",
      "  phone_df.fillna(method='bfill', inplace=True)\n"
     ]
    }
   ],
   "source": [
    "phone_df.fillna(method='bfill', inplace=True)"
   ]
  },
  {
   "cell_type": "code",
   "execution_count": 211,
   "id": "bd3295a3-134b-401c-a941-312e64e03f4b",
   "metadata": {},
   "outputs": [
    {
     "data": {
      "text/plain": [
       "Company HQ Phone       0\n",
       "Direct Phone Number    2\n",
       "Mobile phone           0\n",
       "dtype: int64"
      ]
     },
     "execution_count": 211,
     "metadata": {},
     "output_type": "execute_result"
    }
   ],
   "source": [
    "phone_df.isna().sum()"
   ]
  },
  {
   "cell_type": "code",
   "execution_count": 212,
   "id": "80b0f48b-b329-495f-b290-520eccebfbd0",
   "metadata": {},
   "outputs": [
    {
     "data": {
      "text/plain": [
       "6"
      ]
     },
     "execution_count": 212,
     "metadata": {},
     "output_type": "execute_result"
    }
   ],
   "source": [
    "phone_df['Direct Phone Number'].astype(str).apply(lambda x: '+' in x).sum()"
   ]
  },
  {
   "cell_type": "code",
   "execution_count": 215,
   "id": "89126cf0-d033-42c7-acc5-a89f345cf424",
   "metadata": {},
   "outputs": [
    {
     "data": {
      "text/plain": [
       "2"
      ]
     },
     "execution_count": 215,
     "metadata": {},
     "output_type": "execute_result"
    }
   ],
   "source": [
    "phone_df['Direct Phone Number'].isna().sum()"
   ]
  },
  {
   "cell_type": "code",
   "execution_count": 213,
   "id": "549c4118-6a36-4d12-b3da-057de0feaa63",
   "metadata": {},
   "outputs": [
    {
     "data": {
      "text/plain": [
       "33"
      ]
     },
     "execution_count": 213,
     "metadata": {},
     "output_type": "execute_result"
    }
   ],
   "source": [
    "phone_df['Mobile phone'].astype(str).apply(lambda x: '+' in x).sum()"
   ]
  },
  {
   "cell_type": "code",
   "execution_count": 216,
   "id": "65b8d1dd-c3ad-4f26-86f8-634b4d109845",
   "metadata": {},
   "outputs": [
    {
     "data": {
      "text/plain": [
       "0"
      ]
     },
     "execution_count": 216,
     "metadata": {},
     "output_type": "execute_result"
    }
   ],
   "source": [
    "phone_df['Mobile phone'].isna().sum()"
   ]
  },
  {
   "cell_type": "code",
   "execution_count": 214,
   "id": "c04dafd9-a6ca-477b-ac2b-f5932f0abfbb",
   "metadata": {},
   "outputs": [
    {
     "data": {
      "text/plain": [
       "43"
      ]
     },
     "execution_count": 214,
     "metadata": {},
     "output_type": "execute_result"
    }
   ],
   "source": [
    "phone_df['Company HQ Phone'].astype(str).apply(lambda x: '+' in x).sum()"
   ]
  },
  {
   "cell_type": "code",
   "execution_count": 217,
   "id": "d265fe96-6ea0-4603-87f6-64ab60f5d1a7",
   "metadata": {},
   "outputs": [
    {
     "data": {
      "text/plain": [
       "0"
      ]
     },
     "execution_count": 217,
     "metadata": {},
     "output_type": "execute_result"
    }
   ],
   "source": [
    "phone_df['Company HQ Phone'].isna().sum()"
   ]
  },
  {
   "cell_type": "code",
   "execution_count": 218,
   "id": "12076104-7db5-4902-ac2e-7bac4f1e24a5",
   "metadata": {},
   "outputs": [
    {
     "name": "stderr",
     "output_type": "stream",
     "text": [
      "/var/folders/s8/1hl12tjx0b71pdccf5xwchch0000gn/T/ipykernel_50903/4074140620.py:1: SettingWithCopyWarning: \n",
      "A value is trying to be set on a copy of a slice from a DataFrame\n",
      "\n",
      "See the caveats in the documentation: https://pandas.pydata.org/pandas-docs/stable/user_guide/indexing.html#returning-a-view-versus-a-copy\n",
      "  phone_df.fillna(method='ffill', inplace=True)\n"
     ]
    }
   ],
   "source": [
    "phone_df.fillna(method='ffill', inplace=True)"
   ]
  },
  {
   "cell_type": "code",
   "execution_count": 219,
   "id": "dd514f79-2ec7-489a-8a7b-644c3847dd1d",
   "metadata": {},
   "outputs": [
    {
     "data": {
      "text/plain": [
       "6"
      ]
     },
     "execution_count": 219,
     "metadata": {},
     "output_type": "execute_result"
    }
   ],
   "source": [
    "phone_df['Direct Phone Number'].astype(str).apply(lambda x: '+' in x).sum()"
   ]
  },
  {
   "cell_type": "code",
   "execution_count": 233,
   "id": "f43874ac-03fe-4c45-9e72-a1e93535cfe4",
   "metadata": {},
   "outputs": [
    {
     "data": {
      "text/html": [
       "<div>\n",
       "<style scoped>\n",
       "    .dataframe tbody tr th:only-of-type {\n",
       "        vertical-align: middle;\n",
       "    }\n",
       "\n",
       "    .dataframe tbody tr th {\n",
       "        vertical-align: top;\n",
       "    }\n",
       "\n",
       "    .dataframe thead th {\n",
       "        text-align: right;\n",
       "    }\n",
       "</style>\n",
       "<table border=\"1\" class=\"dataframe\">\n",
       "  <thead>\n",
       "    <tr style=\"text-align: right;\">\n",
       "      <th></th>\n",
       "      <th>Company HQ Phone</th>\n",
       "      <th>Direct Phone Number</th>\n",
       "      <th>Mobile phone</th>\n",
       "    </tr>\n",
       "  </thead>\n",
       "  <tbody>\n",
       "    <tr>\n",
       "      <th>402</th>\n",
       "      <td>(502) 875-3771</td>\n",
       "      <td>(240) 752-4847</td>\n",
       "      <td>(502) 640-2096</td>\n",
       "    </tr>\n",
       "    <tr>\n",
       "      <th>115</th>\n",
       "      <td>(202) 585-0232</td>\n",
       "      <td>(240) 488-3958</td>\n",
       "      <td>(667) 254-2696</td>\n",
       "    </tr>\n",
       "    <tr>\n",
       "      <th>947</th>\n",
       "      <td>(240) 515-8355</td>\n",
       "      <td>(703) 472-8478</td>\n",
       "      <td>(570) 332-0022</td>\n",
       "    </tr>\n",
       "    <tr>\n",
       "      <th>499</th>\n",
       "      <td>(202) 884-8000</td>\n",
       "      <td>(202) 884-8974 ext. 98974</td>\n",
       "      <td>(204) 250-7602</td>\n",
       "    </tr>\n",
       "    <tr>\n",
       "      <th>200</th>\n",
       "      <td>(775) 834-8300</td>\n",
       "      <td>(702) 385-4500</td>\n",
       "      <td>(702) 757-5720</td>\n",
       "    </tr>\n",
       "    <tr>\n",
       "      <th>613</th>\n",
       "      <td>(510) 444-9800</td>\n",
       "      <td>(309) 849-0940 ext. 8498</td>\n",
       "      <td>(202) 270-2467</td>\n",
       "    </tr>\n",
       "    <tr>\n",
       "      <th>974</th>\n",
       "      <td>(202) 806-7725</td>\n",
       "      <td>(202) 845-0289</td>\n",
       "      <td>(400) 303-6965</td>\n",
       "    </tr>\n",
       "    <tr>\n",
       "      <th>304</th>\n",
       "      <td>(703) 723-3466</td>\n",
       "      <td>(202) 429-4350</td>\n",
       "      <td>(703) 200-0466</td>\n",
       "    </tr>\n",
       "    <tr>\n",
       "      <th>376</th>\n",
       "      <td>(202) 347-8772</td>\n",
       "      <td>(202) 545-9353</td>\n",
       "      <td>(202) 270-0947</td>\n",
       "    </tr>\n",
       "    <tr>\n",
       "      <th>373</th>\n",
       "      <td>(202) 695-2982</td>\n",
       "      <td>(540) 349-2092 ext. 992</td>\n",
       "      <td>(207) 975-3040</td>\n",
       "    </tr>\n",
       "  </tbody>\n",
       "</table>\n",
       "</div>"
      ],
      "text/plain": [
       "    Company HQ Phone        Direct Phone Number    Mobile phone\n",
       "402   (502) 875-3771             (240) 752-4847  (502) 640-2096\n",
       "115   (202) 585-0232             (240) 488-3958  (667) 254-2696\n",
       "947   (240) 515-8355             (703) 472-8478  (570) 332-0022\n",
       "499   (202) 884-8000  (202) 884-8974 ext. 98974  (204) 250-7602\n",
       "200   (775) 834-8300             (702) 385-4500  (702) 757-5720\n",
       "613   (510) 444-9800   (309) 849-0940 ext. 8498  (202) 270-2467\n",
       "974   (202) 806-7725             (202) 845-0289  (400) 303-6965\n",
       "304   (703) 723-3466             (202) 429-4350  (703) 200-0466\n",
       "376   (202) 347-8772             (202) 545-9353  (202) 270-0947\n",
       "373   (202) 695-2982    (540) 349-2092 ext. 992  (207) 975-3040"
      ]
     },
     "execution_count": 233,
     "metadata": {},
     "output_type": "execute_result"
    }
   ],
   "source": [
    "phone_df.sample(10)"
   ]
  },
  {
   "cell_type": "code",
   "execution_count": 224,
   "id": "0cbc546b-f37b-4ceb-afda-106ecd625796",
   "metadata": {},
   "outputs": [
    {
     "data": {
      "text/html": [
       "<div>\n",
       "<style scoped>\n",
       "    .dataframe tbody tr th:only-of-type {\n",
       "        vertical-align: middle;\n",
       "    }\n",
       "\n",
       "    .dataframe tbody tr th {\n",
       "        vertical-align: top;\n",
       "    }\n",
       "\n",
       "    .dataframe thead th {\n",
       "        text-align: right;\n",
       "    }\n",
       "</style>\n",
       "<table border=\"1\" class=\"dataframe\">\n",
       "  <thead>\n",
       "    <tr style=\"text-align: right;\">\n",
       "      <th></th>\n",
       "      <th>Company HQ Phone</th>\n",
       "      <th>Direct Phone Number</th>\n",
       "      <th>Mobile phone</th>\n",
       "    </tr>\n",
       "  </thead>\n",
       "  <tbody>\n",
       "    <tr>\n",
       "      <th>0</th>\n",
       "      <td>(202) 758-2037</td>\n",
       "      <td>(202) 758-2037 ext. 903</td>\n",
       "      <td>(202) 620-2430</td>\n",
       "    </tr>\n",
       "    <tr>\n",
       "      <th>1</th>\n",
       "      <td>(877) 885-5716</td>\n",
       "      <td>(703) 247-5840</td>\n",
       "      <td>(202) 469-9994</td>\n",
       "    </tr>\n",
       "    <tr>\n",
       "      <th>2</th>\n",
       "      <td>(202) 459-6825</td>\n",
       "      <td>(202) 534-9584</td>\n",
       "      <td>(202) 469-9994</td>\n",
       "    </tr>\n",
       "    <tr>\n",
       "      <th>3</th>\n",
       "      <td>(202) 467-2600</td>\n",
       "      <td>(202) 534-9584</td>\n",
       "      <td>(202) 256-5209</td>\n",
       "    </tr>\n",
       "    <tr>\n",
       "      <th>4</th>\n",
       "      <td>(202) 671-4200</td>\n",
       "      <td>(202) 727-3799</td>\n",
       "      <td>(202) 256-5209</td>\n",
       "    </tr>\n",
       "    <tr>\n",
       "      <th>...</th>\n",
       "      <td>...</td>\n",
       "      <td>...</td>\n",
       "      <td>...</td>\n",
       "    </tr>\n",
       "    <tr>\n",
       "      <th>999</th>\n",
       "      <td>+970 22741241</td>\n",
       "      <td>(202) 288-5224</td>\n",
       "      <td>(504) 620-0209</td>\n",
       "    </tr>\n",
       "    <tr>\n",
       "      <th>1000</th>\n",
       "      <td>(703) 791-7314</td>\n",
       "      <td>(703) 530-4992</td>\n",
       "      <td>(400) 602-7532</td>\n",
       "    </tr>\n",
       "    <tr>\n",
       "      <th>1001</th>\n",
       "      <td>(865) 576-3161</td>\n",
       "      <td>(490) 304-9205</td>\n",
       "      <td>(400) 602-7532</td>\n",
       "    </tr>\n",
       "    <tr>\n",
       "      <th>1002</th>\n",
       "      <td>(301) 762-0700</td>\n",
       "      <td>(490) 304-9205</td>\n",
       "      <td>(262) 220-6532</td>\n",
       "    </tr>\n",
       "    <tr>\n",
       "      <th>1003</th>\n",
       "      <td>(703) 777-9474</td>\n",
       "      <td>(490) 304-9205</td>\n",
       "      <td>(703) 595-3390</td>\n",
       "    </tr>\n",
       "  </tbody>\n",
       "</table>\n",
       "<p>1003 rows × 3 columns</p>\n",
       "</div>"
      ],
      "text/plain": [
       "     Company HQ Phone      Direct Phone Number    Mobile phone\n",
       "0      (202) 758-2037  (202) 758-2037 ext. 903  (202) 620-2430\n",
       "1      (877) 885-5716           (703) 247-5840  (202) 469-9994\n",
       "2      (202) 459-6825           (202) 534-9584  (202) 469-9994\n",
       "3      (202) 467-2600           (202) 534-9584  (202) 256-5209\n",
       "4      (202) 671-4200           (202) 727-3799  (202) 256-5209\n",
       "...               ...                      ...             ...\n",
       "999     +970 22741241           (202) 288-5224  (504) 620-0209\n",
       "1000   (703) 791-7314           (703) 530-4992  (400) 602-7532\n",
       "1001   (865) 576-3161           (490) 304-9205  (400) 602-7532\n",
       "1002   (301) 762-0700           (490) 304-9205  (262) 220-6532\n",
       "1003   (703) 777-9474           (490) 304-9205  (703) 595-3390\n",
       "\n",
       "[1003 rows x 3 columns]"
      ]
     },
     "execution_count": 224,
     "metadata": {},
     "output_type": "execute_result"
    }
   ],
   "source": [
    "phone_df"
   ]
  },
  {
   "cell_type": "code",
   "execution_count": 235,
   "id": "43e24293-6644-40f8-9a80-3148d121bf7c",
   "metadata": {},
   "outputs": [],
   "source": [
    "phone_df.loc[:,'Direct Phone Number'] = phone_df['Direct Phone Number'].astype(str).apply(lambda x: x.split('ext')[0] if 'ext' in x else x)"
   ]
  },
  {
   "cell_type": "code",
   "execution_count": 269,
   "id": "afb8ac7f-4c7f-4e1c-bbfe-abf2ab47c8c0",
   "metadata": {},
   "outputs": [
    {
     "data": {
      "text/plain": [
       "628     (540) 759-2400\n",
       "175     (202( 404-4925\n",
       "593     (202) 753-7043\n",
       "655     (703) 842-2290\n",
       "108     (202) 785-7735\n",
       "712    +89 3-3509-8999\n",
       "515    (309) 348-9323 \n",
       "659     (202) 307-7044\n",
       "730     (703) 235-4489\n",
       "985    (309) 899-3500 \n",
       "Name: Direct Phone Number, dtype: object"
      ]
     },
     "execution_count": 269,
     "metadata": {},
     "output_type": "execute_result"
    }
   ],
   "source": [
    "phone_df['Direct Phone Number'].sample(10)"
   ]
  },
  {
   "cell_type": "code",
   "execution_count": 264,
   "id": "e8d2707f-23f9-4519-8e7d-bff61cecda69",
   "metadata": {},
   "outputs": [
    {
     "data": {
      "text/html": [
       "<div>\n",
       "<style scoped>\n",
       "    .dataframe tbody tr th:only-of-type {\n",
       "        vertical-align: middle;\n",
       "    }\n",
       "\n",
       "    .dataframe tbody tr th {\n",
       "        vertical-align: top;\n",
       "    }\n",
       "\n",
       "    .dataframe thead th {\n",
       "        text-align: right;\n",
       "    }\n",
       "</style>\n",
       "<table border=\"1\" class=\"dataframe\">\n",
       "  <thead>\n",
       "    <tr style=\"text-align: right;\">\n",
       "      <th></th>\n",
       "      <th>Company HQ Phone</th>\n",
       "      <th>Direct Phone Number</th>\n",
       "      <th>Mobile phone</th>\n",
       "    </tr>\n",
       "  </thead>\n",
       "  <tbody>\n",
       "    <tr>\n",
       "      <th>0</th>\n",
       "      <td>(202) 758-2037</td>\n",
       "      <td>(202) 758-2037</td>\n",
       "      <td>(202) 620-2430</td>\n",
       "    </tr>\n",
       "    <tr>\n",
       "      <th>1</th>\n",
       "      <td>(877) 885-5716</td>\n",
       "      <td>(703) 247-5840</td>\n",
       "      <td>(202) 469-9994</td>\n",
       "    </tr>\n",
       "    <tr>\n",
       "      <th>2</th>\n",
       "      <td>(202) 459-6825</td>\n",
       "      <td>(202) 534-9584</td>\n",
       "      <td>(202) 469-9994</td>\n",
       "    </tr>\n",
       "    <tr>\n",
       "      <th>3</th>\n",
       "      <td>(202) 467-2600</td>\n",
       "      <td>(202) 534-9584</td>\n",
       "      <td>(202) 256-5209</td>\n",
       "    </tr>\n",
       "    <tr>\n",
       "      <th>4</th>\n",
       "      <td>(202) 671-4200</td>\n",
       "      <td>(202) 727-3799</td>\n",
       "      <td>(202) 256-5209</td>\n",
       "    </tr>\n",
       "    <tr>\n",
       "      <th>...</th>\n",
       "      <td>...</td>\n",
       "      <td>...</td>\n",
       "      <td>...</td>\n",
       "    </tr>\n",
       "    <tr>\n",
       "      <th>999</th>\n",
       "      <td>+970 22741241</td>\n",
       "      <td>(202) 288-5224</td>\n",
       "      <td>(504) 620-0209</td>\n",
       "    </tr>\n",
       "    <tr>\n",
       "      <th>1000</th>\n",
       "      <td>(703) 791-7314</td>\n",
       "      <td>(703) 530-4992</td>\n",
       "      <td>(400) 602-7532</td>\n",
       "    </tr>\n",
       "    <tr>\n",
       "      <th>1001</th>\n",
       "      <td>(865) 576-3161</td>\n",
       "      <td>(490) 304-9205</td>\n",
       "      <td>(400) 602-7532</td>\n",
       "    </tr>\n",
       "    <tr>\n",
       "      <th>1002</th>\n",
       "      <td>(301) 762-0700</td>\n",
       "      <td>(490) 304-9205</td>\n",
       "      <td>(262) 220-6532</td>\n",
       "    </tr>\n",
       "    <tr>\n",
       "      <th>1003</th>\n",
       "      <td>(703) 777-9474</td>\n",
       "      <td>(490) 304-9205</td>\n",
       "      <td>(703) 595-3390</td>\n",
       "    </tr>\n",
       "  </tbody>\n",
       "</table>\n",
       "<p>1003 rows × 3 columns</p>\n",
       "</div>"
      ],
      "text/plain": [
       "     Company HQ Phone Direct Phone Number    Mobile phone\n",
       "0      (202) 758-2037     (202) 758-2037   (202) 620-2430\n",
       "1      (877) 885-5716      (703) 247-5840  (202) 469-9994\n",
       "2      (202) 459-6825      (202) 534-9584  (202) 469-9994\n",
       "3      (202) 467-2600      (202) 534-9584  (202) 256-5209\n",
       "4      (202) 671-4200      (202) 727-3799  (202) 256-5209\n",
       "...               ...                 ...             ...\n",
       "999     +970 22741241      (202) 288-5224  (504) 620-0209\n",
       "1000   (703) 791-7314      (703) 530-4992  (400) 602-7532\n",
       "1001   (865) 576-3161      (490) 304-9205  (400) 602-7532\n",
       "1002   (301) 762-0700      (490) 304-9205  (262) 220-6532\n",
       "1003   (703) 777-9474      (490) 304-9205  (703) 595-3390\n",
       "\n",
       "[1003 rows x 3 columns]"
      ]
     },
     "execution_count": 264,
     "metadata": {},
     "output_type": "execute_result"
    }
   ],
   "source": [
    "phone_df.replace('null', np.nan)"
   ]
  },
  {
   "cell_type": "code",
   "execution_count": 270,
   "id": "0b1f22bf-9818-4530-b251-155083ef7323",
   "metadata": {},
   "outputs": [
    {
     "data": {
      "text/plain": [
       "Company HQ Phone         +81 363731111\n",
       "Direct Phone Number    +89 3-3509-8999\n",
       "Mobile phone            (703) 303-0509\n",
       "Name: 713, dtype: object"
      ]
     },
     "execution_count": 270,
     "metadata": {},
     "output_type": "execute_result"
    }
   ],
   "source": [
    "phone_df.iloc[712]"
   ]
  },
  {
   "cell_type": "code",
   "execution_count": 274,
   "id": "b63eb2cc-593a-4ebd-a228-594a10332ac4",
   "metadata": {},
   "outputs": [
    {
     "data": {
      "text/plain": [
       "43"
      ]
     },
     "execution_count": 274,
     "metadata": {},
     "output_type": "execute_result"
    }
   ],
   "source": [
    "phone_df['Company HQ Phone'].astype(str).apply(lambda x: '+' in x).sum()"
   ]
  },
  {
   "cell_type": "code",
   "execution_count": 283,
   "id": "d759a0d7-d38f-4582-9d39-b709cbef3c03",
   "metadata": {},
   "outputs": [],
   "source": [
    "phone_df.loc[:,'Company HQ Phone'] = phone_df['Company HQ Phone'].astype(str).apply(lambda x: np.nan if '+' in x else x)"
   ]
  },
  {
   "cell_type": "code",
   "execution_count": 284,
   "id": "36eb2225-712d-47e5-a090-5525cda9c78d",
   "metadata": {},
   "outputs": [
    {
     "data": {
      "text/plain": [
       "0"
      ]
     },
     "execution_count": 284,
     "metadata": {},
     "output_type": "execute_result"
    }
   ],
   "source": [
    "phone_df['Company HQ Phone'].astype(str).apply(lambda x: '+' in x).sum()"
   ]
  },
  {
   "cell_type": "code",
   "execution_count": 285,
   "id": "03a49ce6-8590-4078-9d07-bd53abb8dad0",
   "metadata": {},
   "outputs": [
    {
     "data": {
      "text/plain": [
       "33"
      ]
     },
     "execution_count": 285,
     "metadata": {},
     "output_type": "execute_result"
    }
   ],
   "source": [
    "phone_df['Mobile phone'].astype(str).apply(lambda x: '+' in x).sum()"
   ]
  },
  {
   "cell_type": "code",
   "execution_count": 288,
   "id": "95516c7c-86b7-44ae-b59b-c996674fc507",
   "metadata": {},
   "outputs": [],
   "source": [
    "phone_df.loc[:,'Mobile phone'] = phone_df['Mobile phone'].astype(str).apply(lambda x: np.nan if '+' in x else x)"
   ]
  },
  {
   "cell_type": "code",
   "execution_count": 294,
   "id": "3d986bf4-2a0c-4dbf-bbb1-91a67a65ec31",
   "metadata": {},
   "outputs": [
    {
     "data": {
      "text/plain": [
       "0"
      ]
     },
     "execution_count": 294,
     "metadata": {},
     "output_type": "execute_result"
    }
   ],
   "source": [
    "phone_df['Mobile phone'].astype(str).apply(lambda x: '+' in x).sum()"
   ]
  },
  {
   "cell_type": "code",
   "execution_count": 295,
   "id": "bff11506-979b-470d-a19d-af90cf6c6043",
   "metadata": {},
   "outputs": [],
   "source": [
    "phone_df.loc[:,'Direct Phone Number'] = phone_df['Direct Phone Number'].astype(str).apply(lambda x: np.nan if '+' in x else x)"
   ]
  },
  {
   "cell_type": "code",
   "execution_count": 296,
   "id": "d1f47a76-feb8-4dd2-8434-d4f09d598ca2",
   "metadata": {},
   "outputs": [
    {
     "data": {
      "text/plain": [
       "0"
      ]
     },
     "execution_count": 296,
     "metadata": {},
     "output_type": "execute_result"
    }
   ],
   "source": [
    "phone_df['Direct Phone Number'].astype(str).apply(lambda x: '+' in x).sum()"
   ]
  },
  {
   "cell_type": "code",
   "execution_count": 297,
   "id": "468bdbca-08cb-4ef3-bb89-4671c0c67944",
   "metadata": {},
   "outputs": [
    {
     "data": {
      "text/plain": [
       "Company HQ Phone        0\n",
       "Direct Phone Number     6\n",
       "Mobile phone           33\n",
       "dtype: int64"
      ]
     },
     "execution_count": 297,
     "metadata": {},
     "output_type": "execute_result"
    }
   ],
   "source": [
    "phone_df.isna().sum()"
   ]
  },
  {
   "cell_type": "code",
   "execution_count": null,
   "id": "f6073bc5-f004-4193-b513-7dcf7e2c4ddf",
   "metadata": {},
   "outputs": [],
   "source": []
  }
 ],
 "metadata": {
  "kernelspec": {
   "display_name": "Python 3 (ipykernel)",
   "language": "python",
   "name": "python3"
  },
  "language_info": {
   "codemirror_mode": {
    "name": "ipython",
    "version": 3
   },
   "file_extension": ".py",
   "mimetype": "text/x-python",
   "name": "python",
   "nbconvert_exporter": "python",
   "pygments_lexer": "ipython3",
   "version": "3.11.4"
  }
 },
 "nbformat": 4,
 "nbformat_minor": 5
}
